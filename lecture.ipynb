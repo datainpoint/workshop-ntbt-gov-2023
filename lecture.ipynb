{
 "cells": [
  {
   "cell_type": "markdown",
   "metadata": {
    "id": "EOSSDVi8DkE8",
    "slideshow": {
     "slide_type": "slide"
    }
   },
   "source": [
    "# 財政部北區國稅局 RPA 教育訓練\n",
    "\n",
    "> Gooogle Colab: <https://bit.ly/3CJFYCG>\n",
    "\n",
    "[數聚點](https://www.datainpoint.com) | 郭耀仁 <yaojenkuo@datainpoint.com>"
   ]
  },
  {
   "cell_type": "markdown",
   "metadata": {
    "slideshow": {
     "slide_type": "subslide"
    }
   },
   "source": [
    "```bash\n",
    "!curl https://raw.githubusercontent.com/datainpoint/workshop-ntbt-gov-2023/main/dict.txt.big > dict.txt.big\n",
    "!curl https://raw.githubusercontent.com/datainpoint/workshop-ntbt-gov-2023/main/userdict.txt > userdict.txt\n",
    "!pip install transformers\n",
    "```"
   ]
  },
  {
   "cell_type": "code",
   "execution_count": 1,
   "metadata": {
    "slideshow": {
     "slide_type": "subslide"
    }
   },
   "outputs": [],
   "source": [
    "import numpy as np\n",
    "import pandas as pd\n",
    "import matplotlib.pyplot as plt"
   ]
  },
  {
   "cell_type": "markdown",
   "metadata": {
    "id": "yvLyZ_7tDkFU",
    "slideshow": {
     "slide_type": "slide"
    }
   },
   "source": [
    "## 什麼是機器學習"
   ]
  },
  {
   "cell_type": "markdown",
   "metadata": {
    "id": "duuEgzJCDkFU",
    "slideshow": {
     "slide_type": "subslide"
    }
   },
   "source": [
    "## 機器學習的三個要素、一個但書\n",
    "\n",
    "> A computer program is said to learn from experience E with respect to some class of tasks T and performance measure P if its performance at tasks in T, as measured by P, improves with experience E.\n",
    "\n",
    "來源：[Machine Learning, Tom Mitchell, McGraw Hill, 1997](http://www.cs.cmu.edu/~tom/mlbook.html)"
   ]
  },
  {
   "cell_type": "markdown",
   "metadata": {
    "id": "oxqNbVCIDkFV",
    "slideshow": {
     "slide_type": "subslide"
    }
   },
   "source": [
    "## 傳統透過電腦程式解決問題的方式示意圖\n",
    "\n",
    "![Imgur](https://i.imgur.com/3pojPXW.png?1)\n",
    "\n",
    "來源：<https://www.coursera.org/learn/introduction-tensorflow>"
   ]
  },
  {
   "cell_type": "markdown",
   "metadata": {
    "id": "t1QFtQMYDkFW",
    "slideshow": {
     "slide_type": "subslide"
    }
   },
   "source": [
    "## 給定規則 $w$ 以及資料 $X$，我們就可以定義出函數 $f$ 生成答案 $y$\n",
    "\n",
    "\\begin{equation}\n",
    "y = f(X;w) = Xw\n",
    "\\end{equation}"
   ]
  },
  {
   "cell_type": "markdown",
   "metadata": {
    "id": "xTdtQzNPDkFW",
    "slideshow": {
     "slide_type": "subslide"
    }
   },
   "source": [
    "## 以機器學習的電腦程式解決問題的方式示意圖\n",
    "\n",
    "![Imgur](https://i.imgur.com/YunyLd7.png)\n",
    "\n",
    "來源：<https://www.coursera.org/learn/introduction-tensorflow>"
   ]
  },
  {
   "cell_type": "markdown",
   "metadata": {
    "id": "kPfORzgZDkFX",
    "slideshow": {
     "slide_type": "subslide"
    }
   },
   "source": [
    "## 給定答案 $y$ 以及資料 $X$，機器學習的電腦程式在最小化損失函數 $J$ 的前提下生成規則 $w$，進而獲得預測 $\\hat{y}$\n",
    "\n",
    "\\begin{equation}\n",
    "\\text{choose} \\; w \\in \\{w^1, w^2, ..., w^n\\} \\\\\n",
    "\\text{where} \\; w \\; \\text{minimizes} \\; J(w) \\\\\n",
    "\\text{subject to} \\; \\hat{y} = h(X; w) = Xw \\\\\n",
    "\\text{where} \\; J(w) \\; \\text{measures the loss between} \\; y \\; \\text{and} \\; \\hat{y} \\\\\n",
    "\\end{equation}"
   ]
  },
  {
   "cell_type": "markdown",
   "metadata": {
    "id": "94yWJoreDkFY",
    "slideshow": {
     "slide_type": "subslide"
    }
   },
   "source": [
    "## 預測數值時最常見的損失函數 $J$\n",
    "\n",
    "最小化均方誤差（Mean squared error）。\n",
    "\n",
    "\\begin{align}\n",
    "\\operatorname*{arg\\,min}_w \\;  J(w) =  \\frac{1}{m} \\sum_i^m (y_i - \\hat{y_i})^2\n",
    "\\end{align}"
   ]
  },
  {
   "cell_type": "markdown",
   "metadata": {
    "id": "eBpIncloDkFY",
    "slideshow": {
     "slide_type": "subslide"
    }
   },
   "source": [
    "## 預測類別時最常見的損失函數 $J$\n",
    "\n",
    "最小化預測錯誤個數。\n",
    "\n",
    "\\begin{align}\n",
    "\\operatorname*{arg\\,min}_w \\; J(w) = \\sum_j n(E_j) \\text{ where } E_j \\; \\text{represents the occurrence of } y_j \\neq \\hat{y_j}\n",
    "\\end{align}"
   ]
  },
  {
   "cell_type": "markdown",
   "metadata": {
    "id": "bRJK_IXMDkFY",
    "slideshow": {
     "slide_type": "subslide"
    }
   },
   "source": [
    "## 機器學習的資料表達"
   ]
  },
  {
   "cell_type": "markdown",
   "metadata": {
    "id": "IANc9mYsDkFY",
    "slideshow": {
     "slide_type": "-"
    }
   },
   "source": [
    "## 特徵矩陣與目標陣列\n",
    "\n",
    "- 外型 `(m, n)` 的特徵矩陣 $X$\n",
    "- 外型 `(m,)` 的目標陣列 $y$"
   ]
  },
  {
   "cell_type": "code",
   "execution_count": 2,
   "metadata": {
    "id": "hLZLnpPVDkFZ",
    "slideshow": {
     "slide_type": "skip"
    }
   },
   "outputs": [],
   "source": [
    "def plot_X_y():\n",
    "    fig = plt.figure(figsize=(6, 4))\n",
    "    ax = fig.add_axes([0, 0, 1, 1])\n",
    "    ax.axis('off')\n",
    "    ax.axis('equal')\n",
    "    # Draw features matrix\n",
    "    ax.vlines(range(6), ymin=0, ymax=9, lw=1)\n",
    "    ax.hlines(range(10), xmin=0, xmax=5, lw=1)\n",
    "    font_prop = dict(size=12, family='monospace')\n",
    "    ax.text(-1, -1, \"Feature Matrix ($X$)\", size=14)\n",
    "    ax.text(0.1, -0.3, r'n_features $\\longrightarrow$', **font_prop)\n",
    "    ax.text(-0.1, 0.1, r'$\\longleftarrow$ m_samples', rotation=90,\n",
    "            va='top', ha='right', **font_prop)\n",
    "    # Draw labels vector\n",
    "    ax.vlines(range(8, 10), ymin=0, ymax=9, lw=1)\n",
    "    ax.hlines(range(10), xmin=8, xmax=9, lw=1)\n",
    "    ax.text(7, -1, \"Target Array ($y$)\", size=14)\n",
    "    ax.text(7.9, 0.1, r'$\\longleftarrow$ m_samples', rotation=90,\n",
    "            va='top', ha='right', **font_prop)\n",
    "    ax.set_ylim(10, -2)\n",
    "    plt.show()"
   ]
  },
  {
   "cell_type": "code",
   "execution_count": 3,
   "metadata": {
    "colab": {
     "base_uri": "https://localhost:8080/",
     "height": 436
    },
    "id": "ylZIPxbGDkFb",
    "outputId": "638ee47c-d728-46e3-c9f7-c59023f2aa54",
    "slideshow": {
     "slide_type": "subslide"
    }
   },
   "outputs": [
    {
     "data": {
      "image/png": "[encoded data removed]",
      "text/plain": [
       "<Figure size 600x400 with 1 Axes>"
      ]
     },
     "metadata": {},
     "output_type": "display_data"
    }
   ],
   "source": [
    "# 來源：<https://jakevdp.github.io/PythonDataScienceHandbook>\n",
    "plot_X_y()"
   ]
  },
  {
   "cell_type": "markdown",
   "metadata": {
    "id": "cEP45080DkFb",
    "slideshow": {
     "slide_type": "subslide"
    }
   },
   "source": [
    "## 如何從 `DataFrame` 中擷取特徵矩陣與目標陣列"
   ]
  },
  {
   "cell_type": "code",
   "execution_count": 4,
   "metadata": {
    "colab": {
     "base_uri": "https://localhost:8080/"
    },
    "id": "vzLewllSDkFb",
    "outputId": "31a5a26b-3a08-480c-90ad-fd2807db4621"
   },
   "outputs": [
    {
     "name": "stdout",
     "output_type": "stream",
     "text": [
      "<class 'pandas.core.frame.DataFrame'>\n",
      "(107, 15)\n"
     ]
    }
   ],
   "source": [
    "import pandas as pd\n",
    "\n",
    "file_path = \"111年新竹分局電子來文.xls\" # upload before importing\n",
    "electronic_official_doc = pd.read_excel(file_path) # import data\n",
    "print(type(electronic_official_doc))\n",
    "print(electronic_official_doc.shape)"
   ]
  },
  {
   "cell_type": "code",
   "execution_count": 5,
   "metadata": {
    "colab": {
     "base_uri": "https://localhost:8080/",
     "height": 235
    },
    "id": "_ng_fQJJDkFc",
    "outputId": "c81a7bc3-4e71-4e14-dab2-f8dbe3536fe5",
    "slideshow": {
     "slide_type": "subslide"
    }
   },
   "outputs": [
    {
     "data": {
      "text/html": [
       "<div>\n",
       "<style scoped>\n",
       "    .dataframe tbody tr th:only-of-type {\n",
       "        vertical-align: middle;\n",
       "    }\n",
       "\n",
       "    .dataframe tbody tr th {\n",
       "        vertical-align: top;\n",
       "    }\n",
       "\n",
       "    .dataframe thead th {\n",
       "        text-align: right;\n",
       "    }\n",
       "</style>\n",
       "<table border=\"1\" class=\"dataframe\">\n",
       "  <thead>\n",
       "    <tr style=\"text-align: right;\">\n",
       "      <th></th>\n",
       "      <th>機關</th>\n",
       "      <th>收創文日期</th>\n",
       "      <th>來文方式</th>\n",
       "      <th>收創文文號</th>\n",
       "      <th>來文機關</th>\n",
       "      <th>來文字</th>\n",
       "      <th>來文號</th>\n",
       "      <th>主旨</th>\n",
       "      <th>公文性質</th>\n",
       "      <th>公文文別</th>\n",
       "      <th>簽呈方式</th>\n",
       "      <th>簽核方式</th>\n",
       "      <th>密等</th>\n",
       "      <th>承辦科室</th>\n",
       "      <th></th>\n",
       "    </tr>\n",
       "  </thead>\n",
       "  <tbody>\n",
       "    <tr>\n",
       "      <th>0</th>\n",
       "      <td>O44</td>\n",
       "      <td>1110103</td>\n",
       "      <td>電子來文</td>\n",
       "      <td>1112210002</td>\n",
       "      <td>財政部臺北國稅局</td>\n",
       "      <td>財北國稅內湖營業一</td>\n",
       "      <td>1101607997</td>\n",
       "      <td>貴公司110年12月31日至111年1月2日於新竹尼尼生活館(新竹市東區新安路2-1號)舉辦...</td>\n",
       "      <td>一般公文</td>\n",
       "      <td>函</td>\n",
       "      <td>空白</td>\n",
       "      <td>線上簽核</td>\n",
       "      <td>普通</td>\n",
       "      <td>新竹分局銷售稅課</td>\n",
       "      <td></td>\n",
       "    </tr>\n",
       "    <tr>\n",
       "      <th>1</th>\n",
       "      <td>O44</td>\n",
       "      <td>1110103</td>\n",
       "      <td>電子來文</td>\n",
       "      <td>1112210003</td>\n",
       "      <td>財政部中區國稅局</td>\n",
       "      <td>中區國稅竹南銷售</td>\n",
       "      <td>1103355878</td>\n",
       "      <td>貴公司110年12月30日依加值型及非加值型營業稅法(以下簡稱營業稅法)第30條規定，申請變...</td>\n",
       "      <td>一般公文</td>\n",
       "      <td>函</td>\n",
       "      <td>空白</td>\n",
       "      <td>線上簽核</td>\n",
       "      <td>普通</td>\n",
       "      <td>新竹分局銷售稅課</td>\n",
       "      <td></td>\n",
       "    </tr>\n",
       "    <tr>\n",
       "      <th>2</th>\n",
       "      <td>O44</td>\n",
       "      <td>1110103</td>\n",
       "      <td>電子來文</td>\n",
       "      <td>1112210004</td>\n",
       "      <td>財政部北區國稅局竹北分局</td>\n",
       "      <td>北區國稅竹北綜</td>\n",
       "      <td>1100310056</td>\n",
       "      <td>貴轄納稅義務人張○勇君對其109年度源自源明科技工程(有)公司之薪資所得持有疑義一案，復如說...</td>\n",
       "      <td>一般公文</td>\n",
       "      <td>函</td>\n",
       "      <td>空白</td>\n",
       "      <td>線上簽核</td>\n",
       "      <td>普通</td>\n",
       "      <td>新竹分局綜所稅課</td>\n",
       "      <td></td>\n",
       "    </tr>\n",
       "    <tr>\n",
       "      <th>3</th>\n",
       "      <td>O44</td>\n",
       "      <td>1110104</td>\n",
       "      <td>電子來文</td>\n",
       "      <td>1112210006</td>\n",
       "      <td>財政部北區國稅局</td>\n",
       "      <td>北區國稅審二</td>\n",
       "      <td>1100015568</td>\n",
       "      <td>檢送109年度投資國外或大陸地區且持有投資公司股份比例為100%之公司、外國或大陸公司在臺分...</td>\n",
       "      <td>一般公文</td>\n",
       "      <td>函</td>\n",
       "      <td>空白</td>\n",
       "      <td>線上簽核</td>\n",
       "      <td>普通</td>\n",
       "      <td>新竹分局綜所稅課</td>\n",
       "      <td></td>\n",
       "    </tr>\n",
       "    <tr>\n",
       "      <th>4</th>\n",
       "      <td>O44</td>\n",
       "      <td>1110104</td>\n",
       "      <td>電子來文</td>\n",
       "      <td>1112210007</td>\n",
       "      <td>新竹市政府</td>\n",
       "      <td>府產商</td>\n",
       "      <td>1100197212</td>\n",
       "      <td>本府110年12月22日府產商字第1100004569號函核准貴商業合夥人變更登記案，因合夥...</td>\n",
       "      <td>一般公文</td>\n",
       "      <td>函</td>\n",
       "      <td>空白</td>\n",
       "      <td>線上簽核</td>\n",
       "      <td>普通</td>\n",
       "      <td>新竹分局銷售稅課</td>\n",
       "      <td></td>\n",
       "    </tr>\n",
       "  </tbody>\n",
       "</table>\n",
       "</div>"
      ],
      "text/plain": [
       "    機關    收創文日期  來文方式       收創文文號          來文機關        來文字         來文號  \\\n",
       "0  O44  1110103  電子來文  1112210002      財政部臺北國稅局  財北國稅內湖營業一  1101607997   \n",
       "1  O44  1110103  電子來文  1112210003      財政部中區國稅局   中區國稅竹南銷售  1103355878   \n",
       "2  O44  1110103  電子來文  1112210004  財政部北區國稅局竹北分局    北區國稅竹北綜  1100310056   \n",
       "3  O44  1110104  電子來文  1112210006      財政部北區國稅局     北區國稅審二  1100015568   \n",
       "4  O44  1110104  電子來文  1112210007         新竹市政府        府產商  1100197212   \n",
       "\n",
       "                                                  主旨  公文性質 公文文別 簽呈方式  簽核方式  \\\n",
       "0  貴公司110年12月31日至111年1月2日於新竹尼尼生活館(新竹市東區新安路2-1號)舉辦...  一般公文    函   空白  線上簽核   \n",
       "1  貴公司110年12月30日依加值型及非加值型營業稅法(以下簡稱營業稅法)第30條規定，申請變...  一般公文    函   空白  線上簽核   \n",
       "2  貴轄納稅義務人張○勇君對其109年度源自源明科技工程(有)公司之薪資所得持有疑義一案，復如說...  一般公文    函   空白  線上簽核   \n",
       "3  檢送109年度投資國外或大陸地區且持有投資公司股份比例為100%之公司、外國或大陸公司在臺分...  一般公文    函   空白  線上簽核   \n",
       "4  本府110年12月22日府產商字第1100004569號函核准貴商業合夥人變更登記案，因合夥...  一般公文    函   空白  線上簽核   \n",
       "\n",
       "   密等      承辦科室     \n",
       "0  普通  新竹分局銷售稅課     \n",
       "1  普通  新竹分局銷售稅課     \n",
       "2  普通  新竹分局綜所稅課     \n",
       "3  普通  新竹分局綜所稅課     \n",
       "4  普通  新竹分局銷售稅課     "
      ]
     },
     "execution_count": 5,
     "metadata": {},
     "output_type": "execute_result"
    }
   ],
   "source": [
    "electronic_official_doc.head()"
   ]
  },
  {
   "cell_type": "code",
   "execution_count": 6,
   "metadata": {
    "colab": {
     "base_uri": "https://localhost:8080/",
     "height": 235
    },
    "id": "_ng_fQJJDkFc",
    "outputId": "c81a7bc3-4e71-4e14-dab2-f8dbe3536fe5",
    "slideshow": {
     "slide_type": "subslide"
    }
   },
   "outputs": [
    {
     "data": {
      "text/html": [
       "<div>\n",
       "<style scoped>\n",
       "    .dataframe tbody tr th:only-of-type {\n",
       "        vertical-align: middle;\n",
       "    }\n",
       "\n",
       "    .dataframe tbody tr th {\n",
       "        vertical-align: top;\n",
       "    }\n",
       "\n",
       "    .dataframe thead th {\n",
       "        text-align: right;\n",
       "    }\n",
       "</style>\n",
       "<table border=\"1\" class=\"dataframe\">\n",
       "  <thead>\n",
       "    <tr style=\"text-align: right;\">\n",
       "      <th></th>\n",
       "      <th>機關</th>\n",
       "      <th>收創文日期</th>\n",
       "      <th>來文方式</th>\n",
       "      <th>收創文文號</th>\n",
       "      <th>來文機關</th>\n",
       "      <th>來文字</th>\n",
       "      <th>來文號</th>\n",
       "      <th>主旨</th>\n",
       "      <th>公文性質</th>\n",
       "      <th>公文文別</th>\n",
       "      <th>簽呈方式</th>\n",
       "      <th>簽核方式</th>\n",
       "      <th>密等</th>\n",
       "      <th>承辦科室</th>\n",
       "      <th></th>\n",
       "    </tr>\n",
       "  </thead>\n",
       "  <tbody>\n",
       "    <tr>\n",
       "      <th>28</th>\n",
       "      <td>O44</td>\n",
       "      <td>1110104</td>\n",
       "      <td>電子來文</td>\n",
       "      <td>1112210032</td>\n",
       "      <td>財政部北區國稅局</td>\n",
       "      <td>北區國稅人</td>\n",
       "      <td>1102021023</td>\n",
       "      <td>為維持本局為民服務品質，各單位於111年農曆春節連續假期前、後1日上班日，依業務需要，以現有...</td>\n",
       "      <td>一般公文</td>\n",
       "      <td>函</td>\n",
       "      <td>空白</td>\n",
       "      <td>線上簽核</td>\n",
       "      <td>普通</td>\n",
       "      <td>新竹分局人事室</td>\n",
       "      <td></td>\n",
       "    </tr>\n",
       "    <tr>\n",
       "      <th>77</th>\n",
       "      <td>O44</td>\n",
       "      <td>1110104</td>\n",
       "      <td>電子來文</td>\n",
       "      <td>1112210092</td>\n",
       "      <td>新竹市選舉委員會</td>\n",
       "      <td>竹市選一</td>\n",
       "      <td>1103150443</td>\n",
       "      <td>110年全國性公民投票及新竹市地方性公民投票，業於110年12月18日完成投開票工作，感謝各...</td>\n",
       "      <td>一般公文</td>\n",
       "      <td>函</td>\n",
       "      <td>空白</td>\n",
       "      <td>線上簽核</td>\n",
       "      <td>普通</td>\n",
       "      <td>新竹分局人事室</td>\n",
       "      <td></td>\n",
       "    </tr>\n",
       "    <tr>\n",
       "      <th>106</th>\n",
       "      <td>O44</td>\n",
       "      <td>1110104</td>\n",
       "      <td>電子來文</td>\n",
       "      <td>1112210124</td>\n",
       "      <td>財政部北區國稅局</td>\n",
       "      <td>北區國稅人</td>\n",
       "      <td>1111001629</td>\n",
       "      <td>為辦理本局暨所屬機關110年7月至12月職務代理名冊查考事宜，請於111年1月7日前依規定完...</td>\n",
       "      <td>一般公文</td>\n",
       "      <td>函</td>\n",
       "      <td>空白</td>\n",
       "      <td>線上簽核</td>\n",
       "      <td>普通</td>\n",
       "      <td>新竹分局人事室</td>\n",
       "      <td></td>\n",
       "    </tr>\n",
       "  </tbody>\n",
       "</table>\n",
       "</div>"
      ],
      "text/plain": [
       "      機關    收創文日期  來文方式       收創文文號      來文機關    來文字         來文號  \\\n",
       "28   O44  1110104  電子來文  1112210032  財政部北區國稅局  北區國稅人  1102021023   \n",
       "77   O44  1110104  電子來文  1112210092  新竹市選舉委員會   竹市選一  1103150443   \n",
       "106  O44  1110104  電子來文  1112210124  財政部北區國稅局  北區國稅人  1111001629   \n",
       "\n",
       "                                                    主旨  公文性質 公文文別 簽呈方式  簽核方式  \\\n",
       "28   為維持本局為民服務品質，各單位於111年農曆春節連續假期前、後1日上班日，依業務需要，以現有...  一般公文    函   空白  線上簽核   \n",
       "77   110年全國性公民投票及新竹市地方性公民投票，業於110年12月18日完成投開票工作，感謝各...  一般公文    函   空白  線上簽核   \n",
       "106  為辦理本局暨所屬機關110年7月至12月職務代理名冊查考事宜，請於111年1月7日前依規定完...  一般公文    函   空白  線上簽核   \n",
       "\n",
       "     密等     承辦科室     \n",
       "28   普通  新竹分局人事室     \n",
       "77   普通  新竹分局人事室     \n",
       "106  普通  新竹分局人事室     "
      ]
     },
     "execution_count": 6,
     "metadata": {},
     "output_type": "execute_result"
    }
   ],
   "source": [
    "electronic_official_doc[electronic_official_doc[\"承辦科室\"] == \"新竹分局人事室\"].head(3)"
   ]
  },
  {
   "cell_type": "code",
   "execution_count": 7,
   "metadata": {
    "colab": {
     "base_uri": "https://localhost:8080/",
     "height": 235
    },
    "id": "_ng_fQJJDkFc",
    "outputId": "c81a7bc3-4e71-4e14-dab2-f8dbe3536fe5",
    "slideshow": {
     "slide_type": "subslide"
    }
   },
   "outputs": [
    {
     "data": {
      "text/html": [
       "<div>\n",
       "<style scoped>\n",
       "    .dataframe tbody tr th:only-of-type {\n",
       "        vertical-align: middle;\n",
       "    }\n",
       "\n",
       "    .dataframe tbody tr th {\n",
       "        vertical-align: top;\n",
       "    }\n",
       "\n",
       "    .dataframe thead th {\n",
       "        text-align: right;\n",
       "    }\n",
       "</style>\n",
       "<table border=\"1\" class=\"dataframe\">\n",
       "  <thead>\n",
       "    <tr style=\"text-align: right;\">\n",
       "      <th></th>\n",
       "      <th>機關</th>\n",
       "      <th>收創文日期</th>\n",
       "      <th>來文方式</th>\n",
       "      <th>收創文文號</th>\n",
       "      <th>來文機關</th>\n",
       "      <th>來文字</th>\n",
       "      <th>來文號</th>\n",
       "      <th>主旨</th>\n",
       "      <th>公文性質</th>\n",
       "      <th>公文文別</th>\n",
       "      <th>簽呈方式</th>\n",
       "      <th>簽核方式</th>\n",
       "      <th>密等</th>\n",
       "      <th>承辦科室</th>\n",
       "      <th></th>\n",
       "    </tr>\n",
       "  </thead>\n",
       "  <tbody>\n",
       "    <tr>\n",
       "      <th>38</th>\n",
       "      <td>O44</td>\n",
       "      <td>1110104</td>\n",
       "      <td>電子來文</td>\n",
       "      <td>1112210044</td>\n",
       "      <td>財政部北區國稅局政風室</td>\n",
       "      <td>北區國稅政室</td>\n",
       "      <td>1110000026</td>\n",
       "      <td>有關110年度公職人員財產申報實質審查及前後年度申報財產比對公開抽籤事宜，請依說明事項辦理，...</td>\n",
       "      <td>一般公文</td>\n",
       "      <td>書函</td>\n",
       "      <td>空白</td>\n",
       "      <td>線上簽核</td>\n",
       "      <td>普通</td>\n",
       "      <td>新竹分局政風室</td>\n",
       "      <td></td>\n",
       "    </tr>\n",
       "    <tr>\n",
       "      <th>52</th>\n",
       "      <td>O44</td>\n",
       "      <td>1110104</td>\n",
       "      <td>電子來文</td>\n",
       "      <td>1112210063</td>\n",
       "      <td>新竹縣政府政風處</td>\n",
       "      <td>政查</td>\n",
       "      <td>1114710002</td>\n",
       "      <td>邀請貴單位參加本處111年度「政風查處業務教育訓練」，請查照。</td>\n",
       "      <td>一般公文</td>\n",
       "      <td>函</td>\n",
       "      <td>空白</td>\n",
       "      <td>線上簽核</td>\n",
       "      <td>普通</td>\n",
       "      <td>新竹分局政風室</td>\n",
       "      <td></td>\n",
       "    </tr>\n",
       "    <tr>\n",
       "      <th>59</th>\n",
       "      <td>O44</td>\n",
       "      <td>1110104</td>\n",
       "      <td>電子來文</td>\n",
       "      <td>1112210070</td>\n",
       "      <td>財政部北區國稅局</td>\n",
       "      <td>北區國稅政</td>\n",
       "      <td>1110000060</td>\n",
       "      <td>檢送本局「110年度稽徵業務考核報告-稅務風紀項目」格式1份(如附件)，請依說明事項辦理，請查照。</td>\n",
       "      <td>一般公文</td>\n",
       "      <td>函</td>\n",
       "      <td>空白</td>\n",
       "      <td>線上簽核</td>\n",
       "      <td>普通</td>\n",
       "      <td>新竹分局政風室</td>\n",
       "      <td></td>\n",
       "    </tr>\n",
       "  </tbody>\n",
       "</table>\n",
       "</div>"
      ],
      "text/plain": [
       "     機關    收創文日期  來文方式       收創文文號         來文機關     來文字         來文號  \\\n",
       "38  O44  1110104  電子來文  1112210044  財政部北區國稅局政風室  北區國稅政室  1110000026   \n",
       "52  O44  1110104  電子來文  1112210063     新竹縣政府政風處      政查  1114710002   \n",
       "59  O44  1110104  電子來文  1112210070     財政部北區國稅局   北區國稅政  1110000060   \n",
       "\n",
       "                                                   主旨  公文性質 公文文別 簽呈方式  簽核方式  \\\n",
       "38  有關110年度公職人員財產申報實質審查及前後年度申報財產比對公開抽籤事宜，請依說明事項辦理，...  一般公文   書函   空白  線上簽核   \n",
       "52                    邀請貴單位參加本處111年度「政風查處業務教育訓練」，請查照。  一般公文    函   空白  線上簽核   \n",
       "59  檢送本局「110年度稽徵業務考核報告-稅務風紀項目」格式1份(如附件)，請依說明事項辦理，請查照。  一般公文    函   空白  線上簽核   \n",
       "\n",
       "    密等     承辦科室     \n",
       "38  普通  新竹分局政風室     \n",
       "52  普通  新竹分局政風室     \n",
       "59  普通  新竹分局政風室     "
      ]
     },
     "execution_count": 7,
     "metadata": {},
     "output_type": "execute_result"
    }
   ],
   "source": [
    "electronic_official_doc[electronic_official_doc[\"承辦科室\"] == \"新竹分局政風室\"].head(3)"
   ]
  },
  {
   "cell_type": "code",
   "execution_count": 8,
   "metadata": {
    "colab": {
     "base_uri": "https://localhost:8080/",
     "height": 235
    },
    "id": "_ng_fQJJDkFc",
    "outputId": "c81a7bc3-4e71-4e14-dab2-f8dbe3536fe5",
    "slideshow": {
     "slide_type": "subslide"
    }
   },
   "outputs": [
    {
     "data": {
      "text/html": [
       "<div>\n",
       "<style scoped>\n",
       "    .dataframe tbody tr th:only-of-type {\n",
       "        vertical-align: middle;\n",
       "    }\n",
       "\n",
       "    .dataframe tbody tr th {\n",
       "        vertical-align: top;\n",
       "    }\n",
       "\n",
       "    .dataframe thead th {\n",
       "        text-align: right;\n",
       "    }\n",
       "</style>\n",
       "<table border=\"1\" class=\"dataframe\">\n",
       "  <thead>\n",
       "    <tr style=\"text-align: right;\">\n",
       "      <th></th>\n",
       "      <th>機關</th>\n",
       "      <th>收創文日期</th>\n",
       "      <th>來文方式</th>\n",
       "      <th>收創文文號</th>\n",
       "      <th>來文機關</th>\n",
       "      <th>來文字</th>\n",
       "      <th>來文號</th>\n",
       "      <th>主旨</th>\n",
       "      <th>公文性質</th>\n",
       "      <th>公文文別</th>\n",
       "      <th>簽呈方式</th>\n",
       "      <th>簽核方式</th>\n",
       "      <th>密等</th>\n",
       "      <th>承辦科室</th>\n",
       "      <th></th>\n",
       "    </tr>\n",
       "  </thead>\n",
       "  <tbody>\n",
       "    <tr>\n",
       "      <th>5</th>\n",
       "      <td>O44</td>\n",
       "      <td>1110104</td>\n",
       "      <td>電子來文</td>\n",
       "      <td>1112210008</td>\n",
       "      <td>新竹市東區區公所</td>\n",
       "      <td>東行</td>\n",
       "      <td>1100020513</td>\n",
       "      <td>有關貴分局為辦理「110年度各類所得扣繳法令申報暨新修正營所稅法令及函釋講習會」，於111年...</td>\n",
       "      <td>一般公文</td>\n",
       "      <td>函</td>\n",
       "      <td>空白</td>\n",
       "      <td>線上簽核</td>\n",
       "      <td>普通</td>\n",
       "      <td>新竹分局服務管理課</td>\n",
       "      <td></td>\n",
       "    </tr>\n",
       "    <tr>\n",
       "      <th>6</th>\n",
       "      <td>O44</td>\n",
       "      <td>1110104</td>\n",
       "      <td>電子來文</td>\n",
       "      <td>1112210009</td>\n",
       "      <td>臺灣新竹地方法院民事執行處</td>\n",
       "      <td>新院玉110司執莊16103</td>\n",
       "      <td>1104042310</td>\n",
       "      <td>本院定於111年2月15日下午2 時30分於民事執行處投標室進行投標、3 時整開標，就債務人...</td>\n",
       "      <td>一般公文</td>\n",
       "      <td>函</td>\n",
       "      <td>空白</td>\n",
       "      <td>線上簽核</td>\n",
       "      <td>普通</td>\n",
       "      <td>新竹分局服務管理課</td>\n",
       "      <td></td>\n",
       "    </tr>\n",
       "    <tr>\n",
       "      <th>15</th>\n",
       "      <td>O44</td>\n",
       "      <td>1110104</td>\n",
       "      <td>電子來文</td>\n",
       "      <td>1112210018</td>\n",
       "      <td>新竹市稅務局</td>\n",
       "      <td>新市稅房</td>\n",
       "      <td>1100231958</td>\n",
       "      <td>有關貴公司坐落新竹市香山區海山里中華路六段１巷３號（稅籍編號：07170254105）房屋於...</td>\n",
       "      <td>一般公文</td>\n",
       "      <td>函</td>\n",
       "      <td>以稿代簽</td>\n",
       "      <td>紙本簽核</td>\n",
       "      <td>普通</td>\n",
       "      <td>新竹分局服務管理課</td>\n",
       "      <td></td>\n",
       "    </tr>\n",
       "  </tbody>\n",
       "</table>\n",
       "</div>"
      ],
      "text/plain": [
       "     機關    收創文日期  來文方式       收創文文號           來文機關             來文字         來文號  \\\n",
       "5   O44  1110104  電子來文  1112210008       新竹市東區區公所              東行  1100020513   \n",
       "6   O44  1110104  電子來文  1112210009  臺灣新竹地方法院民事執行處  新院玉110司執莊16103  1104042310   \n",
       "15  O44  1110104  電子來文  1112210018         新竹市稅務局            新市稅房  1100231958   \n",
       "\n",
       "                                                   主旨  公文性質 公文文別  簽呈方式  簽核方式  \\\n",
       "5   有關貴分局為辦理「110年度各類所得扣繳法令申報暨新修正營所稅法令及函釋講習會」，於111年...  一般公文    函    空白  線上簽核   \n",
       "6   本院定於111年2月15日下午2 時30分於民事執行處投標室進行投標、3 時整開標，就債務人...  一般公文    函    空白  線上簽核   \n",
       "15  有關貴公司坐落新竹市香山區海山里中華路六段１巷３號（稅籍編號：07170254105）房屋於...  一般公文    函  以稿代簽  紙本簽核   \n",
       "\n",
       "    密等       承辦科室     \n",
       "5   普通  新竹分局服務管理課     \n",
       "6   普通  新竹分局服務管理課     \n",
       "15  普通  新竹分局服務管理課     "
      ]
     },
     "execution_count": 8,
     "metadata": {},
     "output_type": "execute_result"
    }
   ],
   "source": [
    "electronic_official_doc[electronic_official_doc[\"承辦科室\"] == \"新竹分局服務管理課\"].head(3)"
   ]
  },
  {
   "cell_type": "code",
   "execution_count": 9,
   "metadata": {
    "colab": {
     "base_uri": "https://localhost:8080/",
     "height": 235
    },
    "id": "_ng_fQJJDkFc",
    "outputId": "c81a7bc3-4e71-4e14-dab2-f8dbe3536fe5",
    "slideshow": {
     "slide_type": "subslide"
    }
   },
   "outputs": [
    {
     "data": {
      "text/html": [
       "<div>\n",
       "<style scoped>\n",
       "    .dataframe tbody tr th:only-of-type {\n",
       "        vertical-align: middle;\n",
       "    }\n",
       "\n",
       "    .dataframe tbody tr th {\n",
       "        vertical-align: top;\n",
       "    }\n",
       "\n",
       "    .dataframe thead th {\n",
       "        text-align: right;\n",
       "    }\n",
       "</style>\n",
       "<table border=\"1\" class=\"dataframe\">\n",
       "  <thead>\n",
       "    <tr style=\"text-align: right;\">\n",
       "      <th></th>\n",
       "      <th>機關</th>\n",
       "      <th>收創文日期</th>\n",
       "      <th>來文方式</th>\n",
       "      <th>收創文文號</th>\n",
       "      <th>來文機關</th>\n",
       "      <th>來文字</th>\n",
       "      <th>來文號</th>\n",
       "      <th>主旨</th>\n",
       "      <th>公文性質</th>\n",
       "      <th>公文文別</th>\n",
       "      <th>簽呈方式</th>\n",
       "      <th>簽核方式</th>\n",
       "      <th>密等</th>\n",
       "      <th>承辦科室</th>\n",
       "      <th></th>\n",
       "    </tr>\n",
       "  </thead>\n",
       "  <tbody>\n",
       "    <tr>\n",
       "      <th>16</th>\n",
       "      <td>O44</td>\n",
       "      <td>1110104</td>\n",
       "      <td>電子來文</td>\n",
       "      <td>1112210019</td>\n",
       "      <td>交通部公路總局新竹區監理所新竹市監理站</td>\n",
       "      <td>竹監新站</td>\n",
       "      <td>1100394456</td>\n",
       "      <td>有關被繼承人劉芯瑜、王德輝、邱金來君違反道路交通管理事件一案，詳如說明，請查照。</td>\n",
       "      <td>一般公文</td>\n",
       "      <td>函</td>\n",
       "      <td>空白</td>\n",
       "      <td>線上簽核</td>\n",
       "      <td>普通</td>\n",
       "      <td>新竹分局營所遺贈稅課</td>\n",
       "      <td></td>\n",
       "    </tr>\n",
       "    <tr>\n",
       "      <th>18</th>\n",
       "      <td>O44</td>\n",
       "      <td>1110104</td>\n",
       "      <td>電子來文</td>\n",
       "      <td>1112210021</td>\n",
       "      <td>交通部公路總局新竹區監理所新竹市監理站</td>\n",
       "      <td>竹監新站</td>\n",
       "      <td>1100393676</td>\n",
       "      <td>貴班小客車逕升大客車班第80610B期結業學員（張浩秦等13名）名冊，同意備查，復請查照。</td>\n",
       "      <td>一般公文</td>\n",
       "      <td>函</td>\n",
       "      <td>空白</td>\n",
       "      <td>線上簽核</td>\n",
       "      <td>普通</td>\n",
       "      <td>新竹分局營所遺贈稅課</td>\n",
       "      <td></td>\n",
       "    </tr>\n",
       "    <tr>\n",
       "      <th>21</th>\n",
       "      <td>O44</td>\n",
       "      <td>1110104</td>\n",
       "      <td>電子來文</td>\n",
       "      <td>1112210024</td>\n",
       "      <td>交通部公路總局新竹區監理所新竹市監理站</td>\n",
       "      <td>竹監新站</td>\n",
       "      <td>1100393475</td>\n",
       "      <td>貴班大客、貨車班第20、30670A期結業學員（林志宇等13名）名冊，同意備查，復請查照。</td>\n",
       "      <td>一般公文</td>\n",
       "      <td>函</td>\n",
       "      <td>空白</td>\n",
       "      <td>線上簽核</td>\n",
       "      <td>普通</td>\n",
       "      <td>新竹分局營所遺贈稅課</td>\n",
       "      <td></td>\n",
       "    </tr>\n",
       "  </tbody>\n",
       "</table>\n",
       "</div>"
      ],
      "text/plain": [
       "     機關    收創文日期  來文方式       收創文文號                 來文機關   來文字         來文號  \\\n",
       "16  O44  1110104  電子來文  1112210019  交通部公路總局新竹區監理所新竹市監理站  竹監新站  1100394456   \n",
       "18  O44  1110104  電子來文  1112210021  交通部公路總局新竹區監理所新竹市監理站  竹監新站  1100393676   \n",
       "21  O44  1110104  電子來文  1112210024  交通部公路總局新竹區監理所新竹市監理站  竹監新站  1100393475   \n",
       "\n",
       "                                               主旨  公文性質 公文文別 簽呈方式  簽核方式  密等  \\\n",
       "16       有關被繼承人劉芯瑜、王德輝、邱金來君違反道路交通管理事件一案，詳如說明，請查照。  一般公文    函   空白  線上簽核  普通   \n",
       "18  貴班小客車逕升大客車班第80610B期結業學員（張浩秦等13名）名冊，同意備查，復請查照。  一般公文    函   空白  線上簽核  普通   \n",
       "21  貴班大客、貨車班第20、30670A期結業學員（林志宇等13名）名冊，同意備查，復請查照。  一般公文    函   空白  線上簽核  普通   \n",
       "\n",
       "          承辦科室     \n",
       "16  新竹分局營所遺贈稅課     \n",
       "18  新竹分局營所遺贈稅課     \n",
       "21  新竹分局營所遺贈稅課     "
      ]
     },
     "execution_count": 9,
     "metadata": {},
     "output_type": "execute_result"
    }
   ],
   "source": [
    "electronic_official_doc[electronic_official_doc[\"承辦科室\"] == \"新竹分局營所遺贈稅課\"].head(3)"
   ]
  },
  {
   "cell_type": "code",
   "execution_count": 10,
   "metadata": {
    "colab": {
     "base_uri": "https://localhost:8080/",
     "height": 235
    },
    "id": "_ng_fQJJDkFc",
    "outputId": "c81a7bc3-4e71-4e14-dab2-f8dbe3536fe5",
    "slideshow": {
     "slide_type": "subslide"
    }
   },
   "outputs": [
    {
     "data": {
      "text/html": [
       "<div>\n",
       "<style scoped>\n",
       "    .dataframe tbody tr th:only-of-type {\n",
       "        vertical-align: middle;\n",
       "    }\n",
       "\n",
       "    .dataframe tbody tr th {\n",
       "        vertical-align: top;\n",
       "    }\n",
       "\n",
       "    .dataframe thead th {\n",
       "        text-align: right;\n",
       "    }\n",
       "</style>\n",
       "<table border=\"1\" class=\"dataframe\">\n",
       "  <thead>\n",
       "    <tr style=\"text-align: right;\">\n",
       "      <th></th>\n",
       "      <th>機關</th>\n",
       "      <th>收創文日期</th>\n",
       "      <th>來文方式</th>\n",
       "      <th>收創文文號</th>\n",
       "      <th>來文機關</th>\n",
       "      <th>來文字</th>\n",
       "      <th>來文號</th>\n",
       "      <th>主旨</th>\n",
       "      <th>公文性質</th>\n",
       "      <th>公文文別</th>\n",
       "      <th>簽呈方式</th>\n",
       "      <th>簽核方式</th>\n",
       "      <th>密等</th>\n",
       "      <th>承辦科室</th>\n",
       "      <th></th>\n",
       "    </tr>\n",
       "  </thead>\n",
       "  <tbody>\n",
       "    <tr>\n",
       "      <th>2</th>\n",
       "      <td>O44</td>\n",
       "      <td>1110103</td>\n",
       "      <td>電子來文</td>\n",
       "      <td>1112210004</td>\n",
       "      <td>財政部北區國稅局竹北分局</td>\n",
       "      <td>北區國稅竹北綜</td>\n",
       "      <td>1100310056</td>\n",
       "      <td>貴轄納稅義務人張○勇君對其109年度源自源明科技工程(有)公司之薪資所得持有疑義一案，復如說...</td>\n",
       "      <td>一般公文</td>\n",
       "      <td>函</td>\n",
       "      <td>空白</td>\n",
       "      <td>線上簽核</td>\n",
       "      <td>普通</td>\n",
       "      <td>新竹分局綜所稅課</td>\n",
       "      <td></td>\n",
       "    </tr>\n",
       "    <tr>\n",
       "      <th>3</th>\n",
       "      <td>O44</td>\n",
       "      <td>1110104</td>\n",
       "      <td>電子來文</td>\n",
       "      <td>1112210006</td>\n",
       "      <td>財政部北區國稅局</td>\n",
       "      <td>北區國稅審二</td>\n",
       "      <td>1100015568</td>\n",
       "      <td>檢送109年度投資國外或大陸地區且持有投資公司股份比例為100%之公司、外國或大陸公司在臺分...</td>\n",
       "      <td>一般公文</td>\n",
       "      <td>函</td>\n",
       "      <td>空白</td>\n",
       "      <td>線上簽核</td>\n",
       "      <td>普通</td>\n",
       "      <td>新竹分局綜所稅課</td>\n",
       "      <td></td>\n",
       "    </tr>\n",
       "    <tr>\n",
       "      <th>7</th>\n",
       "      <td>O44</td>\n",
       "      <td>1110104</td>\n",
       "      <td>電子來文</td>\n",
       "      <td>1112210010</td>\n",
       "      <td>財政部北區國稅局</td>\n",
       "      <td>北區國稅審二</td>\n",
       "      <td>1102021121</td>\n",
       "      <td>檢送臺北市110年11月1日至110年11月30日間之不動產交易資訊檔如附件，請查收運用。</td>\n",
       "      <td>一般公文</td>\n",
       "      <td>函</td>\n",
       "      <td>空白</td>\n",
       "      <td>線上簽核</td>\n",
       "      <td>普通</td>\n",
       "      <td>新竹分局綜所稅課</td>\n",
       "      <td></td>\n",
       "    </tr>\n",
       "  </tbody>\n",
       "</table>\n",
       "</div>"
      ],
      "text/plain": [
       "    機關    收創文日期  來文方式       收創文文號          來文機關      來文字         來文號  \\\n",
       "2  O44  1110103  電子來文  1112210004  財政部北區國稅局竹北分局  北區國稅竹北綜  1100310056   \n",
       "3  O44  1110104  電子來文  1112210006      財政部北區國稅局   北區國稅審二  1100015568   \n",
       "7  O44  1110104  電子來文  1112210010      財政部北區國稅局   北區國稅審二  1102021121   \n",
       "\n",
       "                                                  主旨  公文性質 公文文別 簽呈方式  簽核方式  \\\n",
       "2  貴轄納稅義務人張○勇君對其109年度源自源明科技工程(有)公司之薪資所得持有疑義一案，復如說...  一般公文    函   空白  線上簽核   \n",
       "3  檢送109年度投資國外或大陸地區且持有投資公司股份比例為100%之公司、外國或大陸公司在臺分...  一般公文    函   空白  線上簽核   \n",
       "7      檢送臺北市110年11月1日至110年11月30日間之不動產交易資訊檔如附件，請查收運用。  一般公文    函   空白  線上簽核   \n",
       "\n",
       "   密等      承辦科室     \n",
       "2  普通  新竹分局綜所稅課     \n",
       "3  普通  新竹分局綜所稅課     \n",
       "7  普通  新竹分局綜所稅課     "
      ]
     },
     "execution_count": 10,
     "metadata": {},
     "output_type": "execute_result"
    }
   ],
   "source": [
    "electronic_official_doc[electronic_official_doc[\"承辦科室\"] == \"新竹分局綜所稅課\"].head(3)"
   ]
  },
  {
   "cell_type": "code",
   "execution_count": 11,
   "metadata": {
    "colab": {
     "base_uri": "https://localhost:8080/",
     "height": 235
    },
    "id": "_ng_fQJJDkFc",
    "outputId": "c81a7bc3-4e71-4e14-dab2-f8dbe3536fe5",
    "slideshow": {
     "slide_type": "subslide"
    }
   },
   "outputs": [
    {
     "data": {
      "text/html": [
       "<div>\n",
       "<style scoped>\n",
       "    .dataframe tbody tr th:only-of-type {\n",
       "        vertical-align: middle;\n",
       "    }\n",
       "\n",
       "    .dataframe tbody tr th {\n",
       "        vertical-align: top;\n",
       "    }\n",
       "\n",
       "    .dataframe thead th {\n",
       "        text-align: right;\n",
       "    }\n",
       "</style>\n",
       "<table border=\"1\" class=\"dataframe\">\n",
       "  <thead>\n",
       "    <tr style=\"text-align: right;\">\n",
       "      <th></th>\n",
       "      <th>機關</th>\n",
       "      <th>收創文日期</th>\n",
       "      <th>來文方式</th>\n",
       "      <th>收創文文號</th>\n",
       "      <th>來文機關</th>\n",
       "      <th>來文字</th>\n",
       "      <th>來文號</th>\n",
       "      <th>主旨</th>\n",
       "      <th>公文性質</th>\n",
       "      <th>公文文別</th>\n",
       "      <th>簽呈方式</th>\n",
       "      <th>簽核方式</th>\n",
       "      <th>密等</th>\n",
       "      <th>承辦科室</th>\n",
       "      <th></th>\n",
       "    </tr>\n",
       "  </thead>\n",
       "  <tbody>\n",
       "    <tr>\n",
       "      <th>0</th>\n",
       "      <td>O44</td>\n",
       "      <td>1110103</td>\n",
       "      <td>電子來文</td>\n",
       "      <td>1112210002</td>\n",
       "      <td>財政部臺北國稅局</td>\n",
       "      <td>財北國稅內湖營業一</td>\n",
       "      <td>1101607997</td>\n",
       "      <td>貴公司110年12月31日至111年1月2日於新竹尼尼生活館(新竹市東區新安路2-1號)舉辦...</td>\n",
       "      <td>一般公文</td>\n",
       "      <td>函</td>\n",
       "      <td>空白</td>\n",
       "      <td>線上簽核</td>\n",
       "      <td>普通</td>\n",
       "      <td>新竹分局銷售稅課</td>\n",
       "      <td></td>\n",
       "    </tr>\n",
       "    <tr>\n",
       "      <th>1</th>\n",
       "      <td>O44</td>\n",
       "      <td>1110103</td>\n",
       "      <td>電子來文</td>\n",
       "      <td>1112210003</td>\n",
       "      <td>財政部中區國稅局</td>\n",
       "      <td>中區國稅竹南銷售</td>\n",
       "      <td>1103355878</td>\n",
       "      <td>貴公司110年12月30日依加值型及非加值型營業稅法(以下簡稱營業稅法)第30條規定，申請變...</td>\n",
       "      <td>一般公文</td>\n",
       "      <td>函</td>\n",
       "      <td>空白</td>\n",
       "      <td>線上簽核</td>\n",
       "      <td>普通</td>\n",
       "      <td>新竹分局銷售稅課</td>\n",
       "      <td></td>\n",
       "    </tr>\n",
       "    <tr>\n",
       "      <th>4</th>\n",
       "      <td>O44</td>\n",
       "      <td>1110104</td>\n",
       "      <td>電子來文</td>\n",
       "      <td>1112210007</td>\n",
       "      <td>新竹市政府</td>\n",
       "      <td>府產商</td>\n",
       "      <td>1100197212</td>\n",
       "      <td>本府110年12月22日府產商字第1100004569號函核准貴商業合夥人變更登記案，因合夥...</td>\n",
       "      <td>一般公文</td>\n",
       "      <td>函</td>\n",
       "      <td>空白</td>\n",
       "      <td>線上簽核</td>\n",
       "      <td>普通</td>\n",
       "      <td>新竹分局銷售稅課</td>\n",
       "      <td></td>\n",
       "    </tr>\n",
       "  </tbody>\n",
       "</table>\n",
       "</div>"
      ],
      "text/plain": [
       "    機關    收創文日期  來文方式       收創文文號      來文機關        來文字         來文號  \\\n",
       "0  O44  1110103  電子來文  1112210002  財政部臺北國稅局  財北國稅內湖營業一  1101607997   \n",
       "1  O44  1110103  電子來文  1112210003  財政部中區國稅局   中區國稅竹南銷售  1103355878   \n",
       "4  O44  1110104  電子來文  1112210007     新竹市政府        府產商  1100197212   \n",
       "\n",
       "                                                  主旨  公文性質 公文文別 簽呈方式  簽核方式  \\\n",
       "0  貴公司110年12月31日至111年1月2日於新竹尼尼生活館(新竹市東區新安路2-1號)舉辦...  一般公文    函   空白  線上簽核   \n",
       "1  貴公司110年12月30日依加值型及非加值型營業稅法(以下簡稱營業稅法)第30條規定，申請變...  一般公文    函   空白  線上簽核   \n",
       "4  本府110年12月22日府產商字第1100004569號函核准貴商業合夥人變更登記案，因合夥...  一般公文    函   空白  線上簽核   \n",
       "\n",
       "   密等      承辦科室     \n",
       "0  普通  新竹分局銷售稅課     \n",
       "1  普通  新竹分局銷售稅課     \n",
       "4  普通  新竹分局銷售稅課     "
      ]
     },
     "execution_count": 11,
     "metadata": {},
     "output_type": "execute_result"
    }
   ],
   "source": [
    "electronic_official_doc[electronic_official_doc[\"承辦科室\"] == \"新竹分局銷售稅課\"].head(3)"
   ]
  },
  {
   "cell_type": "code",
   "execution_count": 12,
   "metadata": {
    "colab": {
     "base_uri": "https://localhost:8080/"
    },
    "id": "pRRaIJWhDkFc",
    "outputId": "6bb399ec-676c-465c-d9d9-2fc470d97e90",
    "slideshow": {
     "slide_type": "subslide"
    }
   },
   "outputs": [
    {
     "name": "stdout",
     "output_type": "stream",
     "text": [
      "(107, 2)\n",
      "(107,)\n",
      "6\n",
      "['新竹分局銷售稅課' '新竹分局綜所稅課' '新竹分局服務管理課' '新竹分局營所遺贈稅課' '新竹分局人事室' '新竹分局政風室']\n"
     ]
    }
   ],
   "source": [
    "X = electronic_official_doc[[\"來文機關\", \"主旨\"]].values # select 2 columns\n",
    "y = electronic_official_doc[\"承辦科室\"].values          # select 1 column\n",
    "print(X.shape)\n",
    "print(y.shape)\n",
    "print(electronic_official_doc[\"承辦科室\"].nunique())\n",
    "print(electronic_official_doc[\"承辦科室\"].unique())"
   ]
  },
  {
   "cell_type": "code",
   "execution_count": 13,
   "metadata": {
    "colab": {
     "base_uri": "https://localhost:8080/"
    },
    "id": "pRRaIJWhDkFc",
    "outputId": "6bb399ec-676c-465c-d9d9-2fc470d97e90",
    "slideshow": {
     "slide_type": "subslide"
    }
   },
   "outputs": [
    {
     "name": "stdout",
     "output_type": "stream",
     "text": [
      "[['財政部臺北國稅局'\n",
      "  '貴公司110年12月31日至111年1月2日於新竹尼尼生活館(新竹市東區新安路2-1號)舉辦短期商品展售活動乙案，同意備查，請查照。']\n",
      " ['財政部中區國稅局'\n",
      "  '貴公司110年12月30日依加值型及非加值型營業稅法(以下簡稱營業稅法)第30條規定，申請變更營業所在地址登記一案，稅務部分准予辦理，請查照。']\n",
      " ['財政部北區國稅局竹北分局' '貴轄納稅義務人張○勇君對其109年度源自源明科技工程(有)公司之薪資所得持有疑義一案，復如說明二，請查照。']\n",
      " ['財政部北區國稅局'\n",
      "  '檢送109年度投資國外或大陸地區且持有投資公司股份比例為100%之公司、外國或大陸公司在臺分公司清冊各1份，請依說明事項辦理，請查照。']\n",
      " ['新竹市政府'\n",
      "  '本府110年12月22日府產商字第1100004569號函核准貴商業合夥人變更登記案，因合夥人誤繕，特此更正，茲附登記抄本，請查照。']]\n",
      "['新竹分局銷售稅課' '新竹分局銷售稅課' '新竹分局綜所稅課' '新竹分局綜所稅課' '新竹分局銷售稅課']\n"
     ]
    }
   ],
   "source": [
    "print(X[:5])\n",
    "print(y[:5])"
   ]
  },
  {
   "cell_type": "markdown",
   "metadata": {
    "id": "zsCbogaDDkFi",
    "slideshow": {
     "slide_type": "subslide"
    }
   },
   "source": [
    "## 什麼是模型\n",
    "\n",
    "- 模型（Model）是一個類似於「函數」的概念，由參數與運算組成。\n",
    "- 模型的參數以及運算可以透過不同的方式生成，生成方式包含規則敘述與歷史資料訓練。\n",
    "    - 透過規則敘述生成參數以及運算，稱為基於規則的模型（Rule-based model）或稱專家模型。\n",
    "    - 透過歷史資料訓練生成參數以及運算，稱為基於演算法的模型（Algorithm-based model）或稱基於機器學習的模型。\n",
    "- 不同模型除了相互比較，也可以與基準（Baseline）模型比較，常用來作為基準模型的像是基於隨機的黑猩猩模型或稱虛假模型（Dummy model），像是以投擲硬幣、骰子或者射飛鏢來決定模型的輸出。"
   ]
  },
  {
   "cell_type": "markdown",
   "metadata": {
    "id": "_ruhGMdADkFi",
    "slideshow": {
     "slide_type": "subslide"
    }
   },
   "source": [
    "## 可以採用哪種模型解決問題\n",
    "\n",
    "- 採用基於規則的模型：\n",
    "    - 問題能用人類語言描述邏輯、撰寫規則。\n",
    "    - 答案不能容忍誤差。\n",
    "- 採用基於機器學習的模型：\n",
    "    - 問題非領域專家不容易描述邏輯、撰寫規則。\n",
    "    - 答案能夠容忍誤差。"
   ]
  },
  {
   "cell_type": "markdown",
   "metadata": {
    "id": "bcBNZVw2DkFj",
    "slideshow": {
     "slide_type": "subslide"
    }
   },
   "source": [
    "## 可以採用哪種模型解決問題（續）\n",
    "\n",
    "- 採用基於規則的模型：給定整數判斷它是否為奇數、偶數或者質數；給定一份電子公文的「主旨」所出現之關鍵字判斷「承辦科室」。\n",
    "- 採用基於機器學習的模型：給定一份電子公文的「來文機關」以及「主旨」來猜「承辦科室」為新竹分局銷售稅課、新竹分局綜所稅課、新竹分局服務管理課、新竹分局營所遺贈稅課、新竹分局人事室或新竹分局政風室。"
   ]
  },
  {
   "cell_type": "markdown",
   "metadata": {
    "id": "EqPB1BjwDkFj",
    "slideshow": {
     "slide_type": "subslide"
    }
   },
   "source": [
    "## 基於機器學習的模型可再分為\n",
    "\n",
    "- 監督式學習：訓練資料中具備已實現的數值或標籤。\n",
    "    - 迴歸：數值預測的任務。\n",
    "    - 分類：類別預測的任務。\n",
    "- 非監督式學習：訓練資料中「不」具備已實現的數值或標籤。"
   ]
  },
  {
   "cell_type": "markdown",
   "metadata": {
    "id": "iR5EHxinDkFj",
    "slideshow": {
     "slide_type": "subslide"
    }
   },
   "source": [
    "## 數值預測的任務：迴歸模型\n",
    "\n",
    "- 「數值預測」是「監督式學習」的其中一種應用類型。\n",
    "- 預測的目標向量 $y$ 屬於連續型數值變數。\n",
    "- 更常被稱為「迴歸模型」。"
   ]
  },
  {
   "cell_type": "markdown",
   "metadata": {
    "id": "8OzTQTO7DkFj",
    "slideshow": {
     "slide_type": "subslide"
    }
   },
   "source": [
    "## 預測數值時最常見的損失函數 $J$\n",
    "\n",
    "最小化訓練資料的均方誤差（Mean squared error）。\n",
    "\n",
    "\\begin{align}\n",
    "\\operatorname*{arg\\,min}_w \\;  J(w) =  \\frac{1}{m} \\sum_i^m (y_i^{(train)} - \\hat{y_i}^{(train)})^2\n",
    "\\end{align}"
   ]
  },
  {
   "cell_type": "markdown",
   "metadata": {
    "id": "0zdy0eK0DkFl",
    "slideshow": {
     "slide_type": "subslide"
    }
   },
   "source": [
    "## 評估模型：驗證資料與預測資料的均方誤差\n",
    "\n",
    "\\begin{equation}\n",
    "\\text{MSE}_{valid} = \\frac{1}{m}\\sum_{i}^{m}{(y^{(valid)}_i - \\hat{y_i}^{(valid)})^2}\n",
    "\\end{equation}"
   ]
  },
  {
   "cell_type": "markdown",
   "metadata": {
    "id": "LkYeXPDRDkFo",
    "slideshow": {
     "slide_type": "subslide"
    }
   },
   "source": [
    "## 類別預測的任務：分類器\n",
    "\n",
    "- 「類別預測」是「監督式學習」的其中一種應用類型。\n",
    "- 預測的目標向量 $y$ 屬於離散型的類別變數。\n",
    "- 更常被稱為「分類器」。"
   ]
  },
  {
   "cell_type": "markdown",
   "metadata": {
    "id": "KqWgKRBGDkFo",
    "slideshow": {
     "slide_type": "subslide"
    }
   },
   "source": [
    "## 預測類別時最常見的損失函數 $J$\n",
    "\n",
    "最小化訓練資料的誤分類數。\n",
    "\n",
    "\\begin{align}\n",
    "\\operatorname*{arg\\,min}_w \\; J(w) = \\sum_j n(E^{(train)}_j) \\text{ where } E^{(train)}_j \\; \\text{represents the occurrence of } y^{(train)}_j \\neq \\hat{y^{(train)}_j}\n",
    "\\end{align}"
   ]
  },
  {
   "cell_type": "markdown",
   "metadata": {
    "id": "jn763amsDkFo",
    "slideshow": {
     "slide_type": "subslide"
    }
   },
   "source": [
    "## 預測電子公文的承辦科室\n",
    "\n",
    "- 資料（Experience）：一定數量電子公文的「來文機關」與「主旨」。\n",
    "- 任務（Task）：利用模型預測電子公文的「承辦科室」。\n",
    "- 評估（Performance）：模型預測的「承辦科室」與實際「承辦科室」的誤分類數。\n",
    "- 但書（Condition）：隨著資料觀測值筆數增加，預測誤分類數應該要減少。"
   ]
  },
  {
   "cell_type": "markdown",
   "metadata": {
    "id": "-RTkrb2NDkFt",
    "slideshow": {
     "slide_type": "slide"
    }
   },
   "source": [
    "## 什麼是深度學習"
   ]
  },
  {
   "cell_type": "markdown",
   "metadata": {
    "id": "X-t0vWYNDkFt",
    "slideshow": {
     "slide_type": "subslide"
    }
   },
   "source": [
    "## 無法描述規則的任務\n",
    "\n",
    "- 像是影像分類、語音識別或機器翻譯等，都屬於無法描述規則的任務。\n",
    "- 對人類來說影像分類、語音識別或語言翻譯是很輕易能辦到的，但要寫出其中的規則、邏輯是極其困難的。"
   ]
  },
  {
   "cell_type": "markdown",
   "metadata": {
    "id": "mFaBomsrDkFt",
    "slideshow": {
     "slide_type": "subslide"
    }
   },
   "source": [
    "## 該如何處理無法描述規則的任務\n",
    "\n",
    "- 以機器學習領域的一個分支**深度學習**來處理。\n",
    "- 深度學習是一種不需要使用者**直接**決定特徵的最適化方法，而是由深度學習的結構**間接**決定。\n",
    "    - 面對數值或類別的預測任務，若是採用機器學習，係數**直接**由特徵矩陣 $X$ 的欄位個數決定。\n",
    "    - 面對數值或類別的預測任務，若是採用深度學習，係數會改由深度（Depth）、或者稱為層數（Number of layers）決定。"
   ]
  },
  {
   "cell_type": "markdown",
   "metadata": {
    "id": "ygcu7w2uDkFw",
    "slideshow": {
     "slide_type": "subslide"
    }
   },
   "source": [
    "## 深度學習\n",
    "\n",
    "- 以集合概念來說明的話，深度學習包含於機器學習之中，是機器學習集合的子集合。\n",
    "- 深度學習使用連續且多層的數值轉換從訓練資料中同時進行特徵工程（Feature engineering）以及係數 $w$ 的最適化。\n",
    "- 簡言之，我們可以將深度學習視為一種不需要使用者直接進行「特徵工程」（Feature engineering）的最適化方法，使用者透過定義層數來間接決定特徵工程的規模，當深度學習的層數愈多、單位愈多，意味著特徵工程的規模愈大。"
   ]
  },
  {
   "cell_type": "markdown",
   "metadata": {
    "id": "-dfYpMl2DkFw",
    "slideshow": {
     "slide_type": "subslide"
    }
   },
   "source": [
    "## 現代的基礎深度學習模型\n",
    "\n",
    "- 基礎深度學習模型由充滿單位（又稱神經元，Neuron）的層數堆疊而成，每層的多個單位會因為目的性而有不同的相連狀態。\n",
    "- 把結構中某一層的所有單位都與前一層以及後一層的所有單位相連，稱為完全連接層（Fully-connected layers）或密集層（Dense layers）。\n",
    "- 深度學習模型具備了層數的結構，模型 $h$ 也成為了有鏈結的關係、係數 $W$ 也成為矩陣外型，而非前述的向量外型。\n",
    "\n",
    "\\begin{align}\n",
    "\\hat{y} &= h(X; W) \\\\\n",
    "&= h^{(n)}(X;w^{(n)}...(h^{(2)}(X; w^{(2)};(h^{(1)}(X; w^{(1)})))))\n",
    "\\end{align}"
   ]
  },
  {
   "cell_type": "markdown",
   "metadata": {
    "id": "CLYulZ3hDkFx",
    "slideshow": {
     "slide_type": "subslide"
    }
   },
   "source": [
    "## 現代的基礎深度學習模型（續）\n",
    "\n",
    "- 其中 $h^{(1)}$ 稱為「輸入層」（Input layer），$ h^{(n)}$ 稱為「輸出層」（Output layer），介於這兩層之間的 $h^{(i)}$ 則稱為「隱藏層」（Hidden layer）。\n",
    "- 深度學習模型與傳統機器學習模型最大的差別，在於是否有隱藏層的存在，意即一個最基本、最淺的深度學習模型至少具有三層。\n",
    "\n",
    "\\begin{align}\n",
    "\\hat{y} &= h(X; W) \\\\\n",
    "&= h^{(3)}(X; w^{(3)}(h^{(2)}(X; w^{(2)}(h^{(1)}(X; w^{(1)})))))\n",
    "\\end{align}"
   ]
  },
  {
   "cell_type": "markdown",
   "metadata": {
    "id": "9ApA4z-1DkFx",
    "slideshow": {
     "slide_type": "subslide"
    }
   },
   "source": [
    "## 尋找係數的演算方法\n",
    "\n",
    "- 在機器學習中廣泛使用的演算方法稱為「梯度遞減」（Gradient descent）。\n",
    "- 基本概念是先隨機初始化一組係數向量，在基於降低 $y^{(train)}$ 與 $\\hat{y}^{(train)}$ 之間誤差 $J(w)$ 之目標之下，以迭代方式更新該組係數向量，一直到 $J(w)$ 收斂到局部最小值為止。"
   ]
  },
  {
   "cell_type": "markdown",
   "metadata": {
    "id": "QeJgG04CDkFx",
    "slideshow": {
     "slide_type": "subslide"
    }
   },
   "source": [
    "## 機器學習與梯度遞減\n",
    "\n",
    "- 更新係數向量時，並不是盲目亂槍打鳥地試誤（Trial and error）\n",
    "- 根據誤差 $J(w)$ 關於係數向量 $w$ 的偏微分來決定更新的方向性，而更新的幅度大小則由一個大於零、稱為「學習速率」的常數 $\\alpha$ 決定：\n",
    "\n",
    "\\begin{equation}\n",
    "w := w - \\alpha \\frac{\\partial J}{\\partial w}\n",
    "\\end{equation}"
   ]
  },
  {
   "cell_type": "markdown",
   "metadata": {
    "id": "ZPqqaQTbDkFx",
    "slideshow": {
     "slide_type": "subslide"
    }
   },
   "source": [
    "## 深度學習模型與反向傳播\n",
    "\n",
    "- 隱藏層的存在造就了尋找深度學習模型最適的 $W$ 時，跟機器學習的「梯度遞減」有異曲同工的地方。\n",
    "- 同工：\n",
    "    - 起始隨機初始化的 $W$ 所預測目標向量 $\\hat{y}$ 會與實際目標向量 $y$ 相差甚遠，兩者之間的誤差也會很大。\n",
    "- 異曲：\n",
    "    - 透過「反向傳播」（Backpropagation）的演算方法來進行梯度遞減、微調每層的係數。\n",
    "    - 因為深度學習模型中至少有一個「隱藏層」的存在，導致 $\\hat{y}$ 與 $y$ 之間的誤差僅能回饋到前一個隱藏層與輸出層之間的 $W$ 作為更新依據。\n",
    "    - 更前段層數之間 $W$ 的更新依據，則改由後段層數回饋。\n",
    "- 簡言之，我們可以將「反向傳播」類比為專門設計給深度學習模型的梯度遞減演算方法。"
   ]
  },
  {
   "cell_type": "markdown",
   "metadata": {
    "id": "ZPqqaQTbDkFx",
    "slideshow": {
     "slide_type": "slide"
    }
   },
   "source": [
    "## 如何建立文字分類模型"
   ]
  },
  {
   "cell_type": "markdown",
   "metadata": {
    "id": "l2bA9Ar_DkFs",
    "slideshow": {
     "slide_type": "subslide"
    }
   },
   "source": [
    "## 建立文字分類模型的標準步驟\n",
    "\n",
    "1. 準備欲訓練預測的特徵矩陣 $X$  與目標陣列 $y$\n",
    "2. 對特徵矩陣 $X$ 與目標陣列 $y$ 進行特徵工程。\n",
    "3. 對特徵矩陣 $X$ 進行文字編碼。\n",
    "4. 切割訓練與驗證資料。\n",
    "5. 建立預測器類別的物件。\n",
    "6. 將訓練特徵矩陣 $X^{train}$ 與目標陣列 $y^{train}$ 輸入 `predictor.fit()`\n",
    "7. 將驗證特徵矩陣 $X^{valid}$ 輸入 `predictor.predict()` 獲得 $\\hat{y}^{valid}$\n",
    "8. 比對 $\\hat{y}^{valid}$ 與 $y^{valid}$ 之間的差異"
   ]
  },
  {
   "cell_type": "markdown",
   "metadata": {
    "id": "HmnzrohkDkFo",
    "slideshow": {
     "slide_type": "subslide"
    }
   },
   "source": [
    "## 承辦科室有 6 個不同的類別"
   ]
  },
  {
   "cell_type": "code",
   "execution_count": 14,
   "metadata": {
    "colab": {
     "base_uri": "https://localhost:8080/"
    },
    "id": "kmIks23hDkFp",
    "outputId": "527b6b37-b277-46cc-f5da-fbf4f6871dcf"
   },
   "outputs": [
    {
     "name": "stdout",
     "output_type": "stream",
     "text": [
      "['新竹分局銷售稅課' '新竹分局綜所稅課' '新竹分局服務管理課' '新竹分局營所遺贈稅課' '新竹分局人事室' '新竹分局政風室']\n",
      "6\n",
      "新竹分局銷售稅課      39\n",
      "新竹分局綜所稅課      30\n",
      "新竹分局服務管理課     23\n",
      "新竹分局營所遺贈稅課     7\n",
      "新竹分局政風室        5\n",
      "新竹分局人事室        3\n",
      "Name: 承辦科室, dtype: int64\n"
     ]
    }
   ],
   "source": [
    "print(electronic_official_doc[\"承辦科室\"].unique())\n",
    "print(electronic_official_doc[\"承辦科室\"].nunique())\n",
    "print(electronic_official_doc[\"承辦科室\"].value_counts())"
   ]
  },
  {
   "cell_type": "markdown",
   "metadata": {
    "id": "HmnzrohkDkFo",
    "slideshow": {
     "slide_type": "subslide"
    }
   },
   "source": [
    "## 準備欲訓練預測的特徵矩陣 $X$  與目標陣列 $y$"
   ]
  },
  {
   "cell_type": "code",
   "execution_count": 15,
   "metadata": {},
   "outputs": [
    {
     "name": "stdout",
     "output_type": "stream",
     "text": [
      "[['財政部臺北國稅局'\n",
      "  '貴公司110年12月31日至111年1月2日於新竹尼尼生活館(新竹市東區新安路2-1號)舉辦短期商品展售活動乙案，同意備查，請查照。']\n",
      " ['財政部中區國稅局'\n",
      "  '貴公司110年12月30日依加值型及非加值型營業稅法(以下簡稱營業稅法)第30條規定，申請變更營業所在地址登記一案，稅務部分准予辦理，請查照。']\n",
      " ['財政部北區國稅局竹北分局' '貴轄納稅義務人張○勇君對其109年度源自源明科技工程(有)公司之薪資所得持有疑義一案，復如說明二，請查照。']\n",
      " ['財政部北區國稅局'\n",
      "  '檢送109年度投資國外或大陸地區且持有投資公司股份比例為100%之公司、外國或大陸公司在臺分公司清冊各1份，請依說明事項辦理，請查照。']\n",
      " ['新竹市政府'\n",
      "  '本府110年12月22日府產商字第1100004569號函核准貴商業合夥人變更登記案，因合夥人誤繕，特此更正，茲附登記抄本，請查照。']]\n",
      "(array(['新竹分局人事室', '新竹分局政風室', '新竹分局服務管理課', '新竹分局營所遺贈稅課', '新竹分局綜所稅課',\n",
      "       '新竹分局銷售稅課'], dtype=object), array([ 3,  5, 23,  7, 30, 39]))\n"
     ]
    }
   ],
   "source": [
    "X = electronic_official_doc[[\"來文機關\", \"主旨\"]].values\n",
    "y = electronic_official_doc[\"承辦科室\"].values\n",
    "print(X[:5])\n",
    "print(np.unique(y, return_counts=True))"
   ]
  },
  {
   "cell_type": "markdown",
   "metadata": {
    "id": "HmnzrohkDkFo",
    "slideshow": {
     "slide_type": "subslide"
    }
   },
   "source": [
    "## 對特徵矩陣 $X$  與目標陣列 $y$ 進行特徵工程"
   ]
  },
  {
   "cell_type": "code",
   "execution_count": 16,
   "metadata": {},
   "outputs": [
    {
     "data": {
      "text/plain": [
       "(array(['人事', '政風', '服務管理', '營業所得遺產贈與', '綜合所得', '銷售'], dtype=object),\n",
       " array([ 3,  5, 23,  7, 30, 39]))"
      ]
     },
     "execution_count": 16,
     "metadata": {},
     "output_type": "execute_result"
    }
   ],
   "source": [
    "mapping_dict = {\n",
    "    \"新竹分局銷售稅課\": \"銷售\",\n",
    "    \"新竹分局綜所稅課\": \"綜合所得\",\n",
    "    \"新竹分局服務管理課\": \"服務管理\",\n",
    "    \"新竹分局營所遺贈稅課\": \"營業所得遺產贈與\",\n",
    "    \"新竹分局政風室\": \"政風\",\n",
    "    \"新竹分局人事室\": \"人事\"\n",
    "}\n",
    "y = electronic_official_doc[\"承辦科室\"].map(mapping_dict).values\n",
    "np.unique(y, return_counts=True)"
   ]
  },
  {
   "cell_type": "markdown",
   "metadata": {
    "id": "HmnzrohkDkFo",
    "slideshow": {
     "slide_type": "subslide"
    }
   },
   "source": [
    "## 什麼是自然語言處理\n",
    "\n",
    "自然語言處理（Natural Language Processing, NLP）的目標是使得電腦能夠理解自然語言，進而完成一些特定任務，例如：拼字檢查、解析資訊以及語意分析等。"
   ]
  },
  {
   "cell_type": "markdown",
   "metadata": {
    "id": "HmnzrohkDkFo",
    "slideshow": {
     "slide_type": "subslide"
    }
   },
   "source": [
    "## 常見的自然語言處理任務\n",
    "\n",
    "- 關鍵字搜尋。\n",
    "- 同義字詞搜尋。\n",
    "- 機器翻譯。\n",
    "- 語意分析。\n",
    "- 問答系統。\n",
    "- ...等。"
   ]
  },
  {
   "cell_type": "markdown",
   "metadata": {
    "id": "HmnzrohkDkFo",
    "slideshow": {
     "slide_type": "subslide"
    }
   },
   "source": [
    "## 自然語言處理任務的基礎\n",
    "\n",
    "- 分詞分句。\n",
    "- 詞性標注。\n",
    "- 關鍵詞擷取。\n",
    "- 命名實體辨識（Named-Entity Recognition, NER）。"
   ]
  },
  {
   "cell_type": "markdown",
   "metadata": {
    "id": "HmnzrohkDkFo",
    "slideshow": {
     "slide_type": "subslide"
    }
   },
   "source": [
    "## 依據語言選擇 Python 自然語言處理模組\n",
    "\n",
    "- 英文：`nltk`\n",
    "- 中文：`jieba`\n",
    "- 多語系：`polyglot`"
   ]
  },
  {
   "cell_type": "markdown",
   "metadata": {
    "id": "HmnzrohkDkFo",
    "slideshow": {
     "slide_type": "subslide"
    }
   },
   "source": [
    "## 關於 `nltk`\n",
    "\n",
    "Natural Language Toolkit 是 Python 最好的英文自然語言處理模組，功能涵蓋了分類、分詞、詞幹提取與詞性標註等。\n",
    "\n",
    "來源：<https://www.nltk.org>"
   ]
  },
  {
   "cell_type": "markdown",
   "metadata": {
    "id": "HmnzrohkDkFo",
    "slideshow": {
     "slide_type": "subslide"
    }
   },
   "source": [
    "## 關於 `jieba`\n",
    "\n",
    "「结巴」中文分詞：做最好的 Python 中文分詞模組。\n",
    "\n",
    "來源：<https://github.com/fxsjy/jieba>"
   ]
  },
  {
   "cell_type": "markdown",
   "metadata": {
    "id": "HmnzrohkDkFo",
    "slideshow": {
     "slide_type": "subslide"
    }
   },
   "source": [
    "## 關於 `polyglot`\n",
    "\n",
    "支援多語系的 Python 分詞、命名實體辨識模組。\n",
    "\n",
    "來源：<https://polyglot.readthedocs.io/en/latest>"
   ]
  },
  {
   "cell_type": "code",
   "execution_count": 17,
   "metadata": {
    "slideshow": {
     "slide_type": "subslide"
    }
   },
   "outputs": [
    {
     "name": "stdout",
     "output_type": "stream",
     "text": [
      "貴公司110年12月31日至111年1月2日於新竹尼尼生活館(新竹市東區新安路2-1號)舉辦短期商品展售活動乙案，同意備查，請查照。\n",
      "貴公司110年12月30日依加值型及非加值型營業稅法(以下簡稱營業稅法)第30條規定，申請變更營業所在地址登記一案，稅務部分准予辦理，請查照。\n",
      "貴轄納稅義務人張○勇君對其109年度源自源明科技工程(有)公司之薪資所得持有疑義一案，復如說明二，請查照。\n",
      "檢送109年度投資國外或大陸地區且持有投資公司股份比例為100%之公司、外國或大陸公司在臺分公司清冊各1份，請依說明事項辦理，請查照。\n",
      "本府110年12月22日府產商字第1100004569號函核准貴商業合夥人變更登記案，因合夥人誤繕，特此更正，茲附登記抄本，請查照。\n"
     ]
    }
   ],
   "source": [
    "for title in X[:, 1].ravel()[:5]:\n",
    "    print(title)"
   ]
  },
  {
   "cell_type": "markdown",
   "metadata": {
    "id": "HmnzrohkDkFo",
    "slideshow": {
     "slide_type": "subslide"
    }
   },
   "source": [
    "## 使用 `jieba` 進行特徵工程：分詞"
   ]
  },
  {
   "cell_type": "code",
   "execution_count": 18,
   "metadata": {
    "slideshow": {
     "slide_type": "-"
    }
   },
   "outputs": [
    {
     "name": "stderr",
     "output_type": "stream",
     "text": [
      "Building prefix dict from the default dictionary ...\n",
      "Loading model from cache /var/folders/0b/r__z5mpn6ldgb_w2j7_y_ntr0000gn/T/jieba.cache\n",
      "Loading model cost 0.832 seconds.\n",
      "Prefix dict has been built successfully.\n"
     ]
    },
    {
     "name": "stdout",
     "output_type": "stream",
     "text": [
      "['貴', '公司', '110', '年', '12', '月', '31', '日至', '111', '年', '1', '月', '2', '日', '於', '新竹', '尼尼', '生活', '館', '(', '新竹市', '東區', '新安', '路', '2', '-', '1', '號', ')', '舉辦', '短期', '商品', '展售', '活動', '乙案', '，', '同意', '備查', '，', '請', '查照', '。']\n",
      "['貴', '公司', '110', '年', '12', '月', '30', '日依', '加值', '型', '及', '非', '加值', '型', '營業', '稅法', '(', '以下', '簡稱', '營業', '稅法', ')', '第', '30', '條規定', '，', '申請', '變', '更', '營業', '所在', '地址', '登記', '一案', '，', '稅務', '部分', '准予', '辦理', '，', '請', '查照', '。']\n",
      "['貴轄納', '稅義務人', '張', '○', '勇君', '對', '其', '109', '年度', '源自', '源明', '科技', '工程', '(', '有', ')', '公司', '之薪資', '所得', '持有', '疑義', '一案', '，', '復', '如', '說', '明二', '，', '請', '查照', '。']\n",
      "['檢送', '109', '年度', '投資國外', '或', '大陸', '地區且', '持有', '投資', '公司', '股份', '比例', '為', '100%', '之', '公司', '、', '外國', '或', '大陸', '公司', '在', '臺', '分公司', '清冊', '各', '1', '份', '，', '請', '依說', '明事項', '辦理', '，', '請', '查照', '。']\n",
      "['本府', '110', '年', '12', '月', '22', '日府', '產商字', '第', '1100004569', '號函', '核准', '貴商業', '合夥人', '變', '更', '登記案', '，', '因', '合夥人', '誤繕', '，', '特此', '更正', '，', '茲', '附登記', '抄本', '，', '請', '查照', '。']\n"
     ]
    }
   ],
   "source": [
    "import jieba\n",
    "\n",
    "for title in X[:, 1].ravel()[:5]:\n",
    "    list_cut = jieba.lcut(title)\n",
    "    print(list_cut)"
   ]
  },
  {
   "cell_type": "markdown",
   "metadata": {
    "id": "HmnzrohkDkFo",
    "slideshow": {
     "slide_type": "subslide"
    }
   },
   "source": [
    "## 使用 `jieba` 進行特徵工程：設定詞典並分詞"
   ]
  },
  {
   "cell_type": "code",
   "execution_count": 19,
   "metadata": {
    "slideshow": {
     "slide_type": "-"
    }
   },
   "outputs": [
    {
     "name": "stderr",
     "output_type": "stream",
     "text": [
      "Building prefix dict from /Users/kuoyaojen/workshop-ntbt-gov-2023/dict.txt.big ...\n",
      "Loading model from cache /var/folders/0b/r__z5mpn6ldgb_w2j7_y_ntr0000gn/T/jieba.u5a2c6960edf53eb8a497ddd98b238f26.cache\n",
      "Loading model cost 2.252 seconds.\n",
      "Prefix dict has been built successfully.\n"
     ]
    },
    {
     "name": "stdout",
     "output_type": "stream",
     "text": [
      "['貴', '公司', '110', '年', '12', '月', '31', '日至', '111', '年', '1', '月', '2', '日', '於', '新竹', '尼尼', '生活館', '(', '新竹市', '東區', '新安', '路', '2', '-', '1', '號', ')', '舉辦', '短期', '商品', '展售', '活動', '乙案', '，', '同意', '備查', '，', '請', '查照', '。']\n",
      "['貴', '公司', '110', '年', '12', '月', '30', '日依', '加值', '型', '及', '非', '加值', '型', '營業稅', '法', '(', '以下', '簡稱', '營業稅', '法', ')', '第', '30', '條規', '定', '，', '申請', '變更', '營業所', '在', '地址', '登記', '一案', '，', '稅務', '部分', '准予', '辦理', '，', '請', '查照', '。']\n",
      "['貴轄', '納稅', '義務人', '張', '○', '勇君', '對', '其', '109', '年度', '源自', '源明', '科技', '工程', '(', '有', ')', '公司', '之', '薪資', '所得', '持有', '疑義', '一案', '，', '復', '如', '說明', '二', '，', '請', '查照', '。']\n",
      "['檢送', '109', '年度', '投資', '國外', '或', '大陸', '地區', '且', '持有', '投資', '公司', '股份', '比例', '為', '100%', '之', '公司', '、', '外國', '或', '大陸', '公司', '在', '臺', '分公司', '清冊', '各', '1', '份', '，', '請', '依', '說明', '事項', '辦理', '，', '請', '查照', '。']\n",
      "['本府', '110', '年', '12', '月', '22', '日府', '產商字', '第', '1100004569', '號函', '核准', '貴', '商業', '合夥人', '變更', '登記', '案', '，', '因', '合夥人', '誤繕', '，', '特此', '更正', '，', '茲', '附', '登記', '抄本', '，', '請', '查照', '。']\n"
     ]
    }
   ],
   "source": [
    "jieba.set_dictionary(\"dict.txt.big\") # 設定詞典\n",
    "for title in X[:, 1].ravel()[:5]:\n",
    "    list_cut = jieba.lcut(title)\n",
    "    print(list_cut)"
   ]
  },
  {
   "cell_type": "markdown",
   "metadata": {
    "id": "HmnzrohkDkFo",
    "slideshow": {
     "slide_type": "subslide"
    }
   },
   "source": [
    "## 使用 `jieba` 進行特徵工程：設定詞典、新增詞典並分詞"
   ]
  },
  {
   "cell_type": "code",
   "execution_count": 20,
   "metadata": {
    "slideshow": {
     "slide_type": "-"
    }
   },
   "outputs": [
    {
     "name": "stdout",
     "output_type": "stream",
     "text": [
      "['貴', '公司', '110', '年', '12', '月', '31', '日至', '111', '年', '1', '月', '2', '日', '於', '新竹', '尼尼生活館', '(', '新竹市', '東區', '新安', '路', '2', '-', '1', '號', ')', '舉辦', '短期', '商品', '展售', '活動', '乙案', '，', '同意', '備查', '，', '請', '查照', '。']\n",
      "['貴', '公司', '110', '年', '12', '月', '30', '日依', '加值', '型', '及', '非', '加值', '型', '營業稅', '法', '(', '以下', '簡稱', '營業稅', '法', ')', '第', '30', '條規', '定', '，', '申請', '變更', '營業所', '在', '地址', '登記', '一案', '，', '稅務', '部分', '准予', '辦理', '，', '請', '查照', '。']\n",
      "['貴轄', '納稅', '義務人', '張', '○', '勇君', '對', '其', '109', '年度', '源自', '源明', '科技', '工程', '(', '有', ')', '公司', '之', '薪資', '所得', '持有', '疑義', '一案', '，', '復', '如', '說明', '二', '，', '請', '查照', '。']\n",
      "['檢送', '109', '年度', '投資', '國外', '或', '大陸', '地區', '且', '持有', '投資', '公司', '股份', '比例', '為', '100%', '之', '公司', '、', '外國', '或', '大陸', '公司', '在', '臺', '分公司', '清冊', '各', '1', '份', '，', '請', '依', '說明', '事項', '辦理', '，', '請', '查照', '。']\n",
      "['本府', '110', '年', '12', '月', '22', '日府', '產商字', '第', '1100004569', '號函', '核准', '貴', '商業', '合夥人', '變更', '登記', '案', '，', '因', '合夥人', '誤繕', '，', '特此', '更正', '，', '茲', '附', '登記', '抄本', '，', '請', '查照', '。']\n"
     ]
    }
   ],
   "source": [
    "jieba.load_userdict(\"userdict.txt\")  # 新增詞典\n",
    "for title in X[:, 1].ravel()[:5]:\n",
    "    list_cut = jieba.lcut(title)\n",
    "    print(list_cut)"
   ]
  },
  {
   "cell_type": "markdown",
   "metadata": {
    "id": "HmnzrohkDkFo",
    "slideshow": {
     "slide_type": "subslide"
    }
   },
   "source": [
    "## 使用 `jieba` 進行特徵工程：詞性標注"
   ]
  },
  {
   "cell_type": "code",
   "execution_count": 21,
   "metadata": {
    "slideshow": {
     "slide_type": "-"
    }
   },
   "outputs": [
    {
     "name": "stdout",
     "output_type": "stream",
     "text": [
      "{'a': '貴'}\n",
      "{'n': '公司'}\n",
      "{'m': '110'}\n",
      "{'m': '年'}\n",
      "{'m': '12'}\n",
      "{'m': '月'}\n",
      "{'m': '31'}\n",
      "{'m': '日'}\n",
      "{'p': '至'}\n",
      "{'m': '111'}\n",
      "{'m': '年'}\n",
      "{'m': '1'}\n",
      "{'m': '月'}\n",
      "{'m': '2'}\n",
      "{'m': '日'}\n",
      "{'nr': '於'}\n",
      "{'ns': '新竹'}\n",
      "{'x': '尼尼生活館'}\n",
      "{'x': '('}\n",
      "{'ns': '新竹市'}\n",
      "{'ns': '東區'}\n",
      "{'ns': '新安'}\n",
      "{'n': '路'}\n",
      "{'m': '2'}\n",
      "{'x': '-'}\n",
      "{'m': '1'}\n",
      "{'m': '號'}\n",
      "{'x': ')'}\n",
      "{'v': '舉辦'}\n",
      "{'b': '短期'}\n",
      "{'n': '商品'}\n",
      "{'v': '展售'}\n",
      "{'vn': '活動'}\n",
      "{'n': '乙案'}\n",
      "{'x': '，'}\n",
      "{'d': '同意'}\n",
      "{'vn': '備查'}\n",
      "{'x': '，'}\n",
      "{'zg': '請'}\n",
      "{'v': '查照'}\n",
      "{'x': '。'}\n"
     ]
    }
   ],
   "source": [
    "import jieba.posseg as pseg\n",
    "\n",
    "words = pseg.cut(X[0, 1])\n",
    "for word, flag in words:\n",
    "    print({flag: word})"
   ]
  },
  {
   "cell_type": "markdown",
   "metadata": {
    "slideshow": {
     "slide_type": "subslide"
    }
   },
   "source": [
    "## 詞性列表\n",
    "\n",
    "專有名詞類別標籤：\n",
    "\n",
    "- PER 人名\n",
    "- LOC 地名\n",
    "- ORG 機構\n",
    "- TIME 時間\n",
    "\n",
    "來源：<https://github.com/fxsjy/jieba>"
   ]
  },
  {
   "cell_type": "markdown",
   "metadata": {
    "slideshow": {
     "slide_type": "subslide"
    }
   },
   "source": [
    "## 詞性列表（續）\n",
    "\n",
    "一般名詞類別標籤：\n",
    "\n",
    "來源：<https://github.com/fxsjy/jieba>"
   ]
  },
  {
   "cell_type": "markdown",
   "metadata": {
    "slideshow": {
     "slide_type": "subslide"
    }
   },
   "source": [
    "## 關鍵詞擷取\n",
    "\n",
    "- TF-IDF 關鍵詞演算法（Term Frequency-Inverse Document Frequency Algorithm）。\n",
    "- 某個詞在一篇文章中出現的頻率高，且在其他文章中很少出現，那麼該詞為具代表性的關鍵詞。"
   ]
  },
  {
   "cell_type": "code",
   "execution_count": 22,
   "metadata": {
    "slideshow": {
     "slide_type": "-"
    }
   },
   "outputs": [
    {
     "name": "stdout",
     "output_type": "stream",
     "text": [
      "['查照', '110', '12', '31', '111', '尼尼生活館', '東區', '舉辦', '展售', '活動']\n",
      "['30', '加值', '營業稅', '查照', '110', '12', '日依', '簡稱', '條規', '申請']\n",
      "['查照', '貴轄', '納稅', '義務人', '勇君', '109', '源明', '薪資', '疑義', '說明']\n",
      "['投資', '大陸', '查照', '檢送', '109', '國外', '地區', '100%', '外國', '清冊']\n",
      "['合夥人', '登記', '查照', '110', '12', '22', '日府', '產商字', '1100004569', '號函']\n"
     ]
    }
   ],
   "source": [
    "import jieba.analyse\n",
    "\n",
    "for title in X[:, 1].ravel()[:5]:\n",
    "    tags = jieba.analyse.extract_tags(title, 10)\n",
    "    print(list(tags))"
   ]
  },
  {
   "cell_type": "markdown",
   "metadata": {
    "slideshow": {
     "slide_type": "subslide"
    }
   },
   "source": [
    "## 依據詞性標注結果移除數量詞（m）之後再進行關鍵詞擷取\n",
    "\n",
    "- TF-IDF 關鍵詞演算法（Term Frequency-Inverse Document Frequency Algorithm）。\n",
    "- 某個詞在一篇文章中出現的頻率高，且在其他文章中很少出現，那麼該詞為具代表性的關鍵詞。"
   ]
  },
  {
   "cell_type": "code",
   "execution_count": 23,
   "metadata": {},
   "outputs": [
    {
     "name": "stdout",
     "output_type": "stream",
     "text": [
      "['查照', '至於', '尼尼生活館', '東區', '舉辦', '展售', '活動', '乙案', '備查', '新竹市']\n",
      "['加值', '營業稅', '查照', '簡稱', '條規', '申請', '變更', '營業所', '登記', '稅務']\n",
      "['查照', '貴轄', '納稅', '義務人', '勇君', '源明', '薪資', '疑義', '說明', '源自']\n",
      "['投資', '大陸', '查照', '檢送', '國外', '地區', '外國', '清冊', '各份', '說明']\n",
      "['合夥人', '登記', '查照', '日府', '產商字', '商業', '變更', '誤繕', '本府', '更正']\n"
     ]
    }
   ],
   "source": [
    "for title in X[:, 1].ravel()[:5]:\n",
    "    words = pseg.cut(title)\n",
    "    title_removed_m = \"\"\n",
    "    for word, flag in words:\n",
    "        if flag != \"m\":\n",
    "            title_removed_m += word\n",
    "    tags = jieba.analyse.extract_tags(title_removed_m, 10)\n",
    "    print(list(tags))"
   ]
  },
  {
   "cell_type": "code",
   "execution_count": 24,
   "metadata": {
    "slideshow": {
     "slide_type": "subslide"
    }
   },
   "outputs": [
    {
     "name": "stdout",
     "output_type": "stream",
     "text": [
      "['查照 至於 尼尼生活館 東區 舉辦 展售 活動 乙案 備查 新竹市', '加值 營業稅 查照 簡稱 條規 申請 變更 營業所 登記 稅務', '查照 貴轄 納稅 義務人 勇君 源明 薪資 疑義 說明 源自', '投資 大陸 查照 檢送 國外 地區 外國 清冊 各份 說明', '合夥人 登記 查照 日府 產商字 商業 變更 誤繕 本府 更正']\n"
     ]
    }
   ],
   "source": [
    "titles_in_tags = []\n",
    "for title in X[:, 1].ravel():\n",
    "    words = pseg.cut(title)\n",
    "    title_removed_m = \"\"\n",
    "    for word, flag in words:\n",
    "        if flag != \"m\":\n",
    "            title_removed_m += word\n",
    "    tags = jieba.analyse.extract_tags(title_removed_m, 10)\n",
    "    join_tags = \" \".join(tags)\n",
    "    titles_in_tags.append(join_tags)\n",
    "print(titles_in_tags[:5])"
   ]
  },
  {
   "cell_type": "markdown",
   "metadata": {
    "slideshow": {
     "slide_type": "subslide"
    }
   },
   "source": [
    "## 關鍵詞再加入來文機關"
   ]
  },
  {
   "cell_type": "code",
   "execution_count": 25,
   "metadata": {},
   "outputs": [
    {
     "name": "stdout",
     "output_type": "stream",
     "text": [
      "['財政部臺北國稅局 查照 至於 尼尼生活館 東區 舉辦 展售 活動 乙案 備查 新竹市', '財政部中區國稅局 加值 營業稅 查照 簡稱 條規 申請 變更 營業所 登記 稅務', '財政部北區國稅局竹北分局 查照 貴轄 納稅 義務人 勇君 源明 薪資 疑義 說明 源自', '財政部北區國稅局 投資 大陸 查照 檢送 國外 地區 外國 清冊 各份 說明', '新竹市政府 合夥人 登記 查照 日府 產商字 商業 變更 誤繕 本府 更正']\n"
     ]
    }
   ],
   "source": [
    "orgs_titles_in_tags = []\n",
    "orgs = electronic_official_doc[\"來文機關\"].values\n",
    "for title, org in zip(X[:, 1].ravel(), orgs):\n",
    "    words = pseg.cut(title)\n",
    "    title_removed_m = \"\"\n",
    "    for word, flag in words:\n",
    "        if flag != \"m\":\n",
    "            title_removed_m += word\n",
    "    tags = jieba.analyse.extract_tags(title_removed_m, 10)\n",
    "    join_tags = \" \".join(tags)\n",
    "    org_str = f\"{org} \"\n",
    "    org_join_tags = org_str + join_tags\n",
    "    orgs_titles_in_tags.append(org_join_tags)\n",
    "print(orgs_titles_in_tags[:5])"
   ]
  },
  {
   "cell_type": "markdown",
   "metadata": {
    "slideshow": {
     "slide_type": "subslide"
    }
   },
   "source": [
    "## 對特徵矩陣 $X$ 進行文字編碼：文字無法計算，數值才能計算\n",
    "\n",
    "- Bag of Words\n",
    "- TF-IDF（Term Frequency Inverse Document Frequency）\n",
    "- Word2Vector\n",
    "- BERT"
   ]
  },
  {
   "cell_type": "markdown",
   "metadata": {
    "slideshow": {
     "slide_type": "subslide"
    }
   },
   "source": [
    "## 轉換器與預測器是 Scikit-Learn 所創造最重要的兩種類別\n",
    "\n",
    "1. 轉換器（Transformers）：用來預處理資料。\n",
    "2. 預測器（Predictors）：用來訓練模型、生成規則 $w$"
   ]
  },
  {
   "cell_type": "markdown",
   "metadata": {
    "slideshow": {
     "slide_type": "subslide"
    }
   },
   "source": [
    "## 使用 Scikit-Learn 模組的轉換器進行 Bag of Words 文字編碼"
   ]
  },
  {
   "cell_type": "code",
   "execution_count": 26,
   "metadata": {
    "slideshow": {
     "slide_type": "-"
    }
   },
   "outputs": [
    {
     "name": "stdout",
     "output_type": "stream",
     "text": [
      "(107, 464)\n",
      "[[0 0 0 ... 0 0 0]\n",
      " [0 0 0 ... 0 0 0]\n",
      " [0 0 0 ... 0 0 0]\n",
      " [0 0 0 ... 0 0 0]\n",
      " [0 0 0 ... 0 0 0]]\n"
     ]
    }
   ],
   "source": [
    "from sklearn.feature_extraction.text import CountVectorizer\n",
    "\n",
    "cv = CountVectorizer(stop_words=\"english\")\n",
    "X_org_title = cv.fit_transform(orgs_titles_in_tags)\n",
    "print(X_org_title.toarray().shape)\n",
    "print(X_org_title.toarray()[:5, :])"
   ]
  },
  {
   "cell_type": "markdown",
   "metadata": {
    "slideshow": {
     "slide_type": "subslide"
    }
   },
   "source": [
    "## 使用 Scikit-Learn 模組的轉換器進行 TF-IDF 文字編碼"
   ]
  },
  {
   "cell_type": "code",
   "execution_count": 27,
   "metadata": {
    "slideshow": {
     "slide_type": "-"
    }
   },
   "outputs": [
    {
     "name": "stdout",
     "output_type": "stream",
     "text": [
      "(107, 464)\n",
      "[[0. 0. 0. ... 0. 0. 0.]\n",
      " [0. 0. 0. ... 0. 0. 0.]\n",
      " [0. 0. 0. ... 0. 0. 0.]\n",
      " [0. 0. 0. ... 0. 0. 0.]\n",
      " [0. 0. 0. ... 0. 0. 0.]]\n"
     ]
    }
   ],
   "source": [
    "from sklearn.feature_extraction.text import TfidfVectorizer\n",
    "\n",
    "tfidf = TfidfVectorizer(stop_words=\"english\")\n",
    "X_org_title = tfidf.fit_transform(orgs_titles_in_tags)\n",
    "print(X_org_title.toarray().shape)\n",
    "print(X_org_title.toarray()[:5, :])"
   ]
  },
  {
   "cell_type": "markdown",
   "metadata": {
    "slideshow": {
     "slide_type": "subslide"
    }
   },
   "source": [
    "## 切割訓練與驗證資料\n",
    "\n",
    "- 訓練資料：具有實際值或標籤的已實現歷史資料。\n",
    "- 驗證資料：具有實際值或標籤的已實現歷史資料，但是在使用上偽裝成不具有實際值或標籤的待預測資料。\n",
    "- 使用 `sklearn.model_selection` 的 `train_test_split()` 函數。\n",
    "    - `test_size` 驗證資料比例。\n",
    "    - `random_state` 觀測值洗牌的隨機種子。"
   ]
  },
  {
   "cell_type": "code",
   "execution_count": 28,
   "metadata": {},
   "outputs": [],
   "source": [
    "from sklearn.model_selection import train_test_split\n",
    "\n",
    "X_org_title = cv.fit_transform(orgs_titles_in_tags)\n",
    "y = electronic_official_doc[\"承辦科室\"].map(mapping_dict).values\n",
    "X_train, X_valid, y_train, y_valid = train_test_split(X_org_title, y, test_size=0.3, random_state=42) "
   ]
  },
  {
   "cell_type": "markdown",
   "metadata": {
    "slideshow": {
     "slide_type": "subslide"
    }
   },
   "source": [
    "## 建立預測器類別的物件、將訓練特徵矩陣 $X^{train}$ 與目標陣列 $y^{train}$ 輸入 `predictor.fit()`\n",
    "\n",
    "以支援向量機為例。"
   ]
  },
  {
   "cell_type": "code",
   "execution_count": 29,
   "metadata": {},
   "outputs": [
    {
     "data": {
      "text/html": [
       "<style>#sk-container-id-1 {color: black;background-color: white;}#sk-container-id-1 pre{padding: 0;}#sk-container-id-1 div.sk-toggleable {background-color: white;}#sk-container-id-1 label.sk-toggleable__label {cursor: pointer;display: block;width: 100%;margin-bottom: 0;padding: 0.3em;box-sizing: border-box;text-align: center;}#sk-container-id-1 label.sk-toggleable__label-arrow:before {content: \"▸\";float: left;margin-right: 0.25em;color: #696969;}#sk-container-id-1 label.sk-toggleable__label-arrow:hover:before {color: black;}#sk-container-id-1 div.sk-estimator:hover label.sk-toggleable__label-arrow:before {color: black;}#sk-container-id-1 div.sk-toggleable__content {max-height: 0;max-width: 0;overflow: hidden;text-align: left;background-color: #f0f8ff;}#sk-container-id-1 div.sk-toggleable__content pre {margin: 0.2em;color: black;border-radius: 0.25em;background-color: #f0f8ff;}#sk-container-id-1 input.sk-toggleable__control:checked~div.sk-toggleable__content {max-height: 200px;max-width: 100%;overflow: auto;}#sk-container-id-1 input.sk-toggleable__control:checked~label.sk-toggleable__label-arrow:before {content: \"▾\";}#sk-container-id-1 div.sk-estimator input.sk-toggleable__control:checked~label.sk-toggleable__label {background-color: #d4ebff;}#sk-container-id-1 div.sk-label input.sk-toggleable__control:checked~label.sk-toggleable__label {background-color: #d4ebff;}#sk-container-id-1 input.sk-hidden--visually {border: 0;clip: rect(1px 1px 1px 1px);clip: rect(1px, 1px, 1px, 1px);height: 1px;margin: -1px;overflow: hidden;padding: 0;position: absolute;width: 1px;}#sk-container-id-1 div.sk-estimator {font-family: monospace;background-color: #f0f8ff;border: 1px dotted black;border-radius: 0.25em;box-sizing: border-box;margin-bottom: 0.5em;}#sk-container-id-1 div.sk-estimator:hover {background-color: #d4ebff;}#sk-container-id-1 div.sk-parallel-item::after {content: \"\";width: 100%;border-bottom: 1px solid gray;flex-grow: 1;}#sk-container-id-1 div.sk-label:hover label.sk-toggleable__label {background-color: #d4ebff;}#sk-container-id-1 div.sk-serial::before {content: \"\";position: absolute;border-left: 1px solid gray;box-sizing: border-box;top: 0;bottom: 0;left: 50%;z-index: 0;}#sk-container-id-1 div.sk-serial {display: flex;flex-direction: column;align-items: center;background-color: white;padding-right: 0.2em;padding-left: 0.2em;position: relative;}#sk-container-id-1 div.sk-item {position: relative;z-index: 1;}#sk-container-id-1 div.sk-parallel {display: flex;align-items: stretch;justify-content: center;background-color: white;position: relative;}#sk-container-id-1 div.sk-item::before, #sk-container-id-1 div.sk-parallel-item::before {content: \"\";position: absolute;border-left: 1px solid gray;box-sizing: border-box;top: 0;bottom: 0;left: 50%;z-index: -1;}#sk-container-id-1 div.sk-parallel-item {display: flex;flex-direction: column;z-index: 1;position: relative;background-color: white;}#sk-container-id-1 div.sk-parallel-item:first-child::after {align-self: flex-end;width: 50%;}#sk-container-id-1 div.sk-parallel-item:last-child::after {align-self: flex-start;width: 50%;}#sk-container-id-1 div.sk-parallel-item:only-child::after {width: 0;}#sk-container-id-1 div.sk-dashed-wrapped {border: 1px dashed gray;margin: 0 0.4em 0.5em 0.4em;box-sizing: border-box;padding-bottom: 0.4em;background-color: white;}#sk-container-id-1 div.sk-label label {font-family: monospace;font-weight: bold;display: inline-block;line-height: 1.2em;}#sk-container-id-1 div.sk-label-container {text-align: center;}#sk-container-id-1 div.sk-container {/* jupyter's `normalize.less` sets `[hidden] { display: none; }` but bootstrap.min.css set `[hidden] { display: none !important; }` so we also need the `!important` here to be able to override the default hidden behavior on the sphinx rendered scikit-learn.org. See: https://github.com/scikit-learn/scikit-learn/issues/21755 */display: inline-block !important;position: relative;}#sk-container-id-1 div.sk-text-repr-fallback {display: none;}</style><div id=\"sk-container-id-1\" class=\"sk-top-container\"><div class=\"sk-text-repr-fallback\"><pre>SVC(kernel=&#x27;linear&#x27;)</pre><b>In a Jupyter environment, please rerun this cell to show the HTML representation or trust the notebook. <br />On GitHub, the HTML representation is unable to render, please try loading this page with nbviewer.org.</b></div><div class=\"sk-container\" hidden><div class=\"sk-item\"><div class=\"sk-estimator sk-toggleable\"><input class=\"sk-toggleable__control sk-hidden--visually\" id=\"sk-estimator-id-1\" type=\"checkbox\" checked><label for=\"sk-estimator-id-1\" class=\"sk-toggleable__label sk-toggleable__label-arrow\">SVC</label><div class=\"sk-toggleable__content\"><pre>SVC(kernel=&#x27;linear&#x27;)</pre></div></div></div></div></div>"
      ],
      "text/plain": [
       "SVC(kernel='linear')"
      ]
     },
     "execution_count": 29,
     "metadata": {},
     "output_type": "execute_result"
    }
   ],
   "source": [
    "from sklearn.svm import SVC\n",
    "\n",
    "svc_clf = SVC(kernel=\"linear\")\n",
    "svc_clf.fit(X_train, y_train)"
   ]
  },
  {
   "cell_type": "markdown",
   "metadata": {
    "slideshow": {
     "slide_type": "subslide"
    }
   },
   "source": [
    "## 將驗證特徵矩陣 $X^{valid}$ 輸入 `predictor.predict()` 獲得 $\\hat{y}^{valid}$"
   ]
  },
  {
   "cell_type": "code",
   "execution_count": 30,
   "metadata": {},
   "outputs": [],
   "source": [
    "y_hat = svc_clf.predict(X_valid)"
   ]
  },
  {
   "cell_type": "markdown",
   "metadata": {
    "slideshow": {
     "slide_type": "subslide"
    }
   },
   "source": [
    "## 比對 $\\hat{y}^{valid}$ 與 $y^{valid}$ 之間的差異"
   ]
  },
  {
   "cell_type": "code",
   "execution_count": 31,
   "metadata": {},
   "outputs": [
    {
     "data": {
      "text/html": [
       "<div>\n",
       "<style scoped>\n",
       "    .dataframe tbody tr th:only-of-type {\n",
       "        vertical-align: middle;\n",
       "    }\n",
       "\n",
       "    .dataframe tbody tr th {\n",
       "        vertical-align: top;\n",
       "    }\n",
       "\n",
       "    .dataframe thead th {\n",
       "        text-align: right;\n",
       "    }\n",
       "</style>\n",
       "<table border=\"1\" class=\"dataframe\">\n",
       "  <thead>\n",
       "    <tr style=\"text-align: right;\">\n",
       "      <th></th>\n",
       "      <th>人事pred</th>\n",
       "      <th>服務管理pred</th>\n",
       "      <th>營業所得遺產贈與pred</th>\n",
       "      <th>綜合所得pred</th>\n",
       "      <th>銷售pred</th>\n",
       "    </tr>\n",
       "  </thead>\n",
       "  <tbody>\n",
       "    <tr>\n",
       "      <th>人事true</th>\n",
       "      <td>0</td>\n",
       "      <td>1</td>\n",
       "      <td>0</td>\n",
       "      <td>0</td>\n",
       "      <td>0</td>\n",
       "    </tr>\n",
       "    <tr>\n",
       "      <th>服務管理true</th>\n",
       "      <td>0</td>\n",
       "      <td>3</td>\n",
       "      <td>0</td>\n",
       "      <td>2</td>\n",
       "      <td>0</td>\n",
       "    </tr>\n",
       "    <tr>\n",
       "      <th>營業所得遺產贈與true</th>\n",
       "      <td>0</td>\n",
       "      <td>2</td>\n",
       "      <td>1</td>\n",
       "      <td>1</td>\n",
       "      <td>0</td>\n",
       "    </tr>\n",
       "    <tr>\n",
       "      <th>綜合所得true</th>\n",
       "      <td>0</td>\n",
       "      <td>0</td>\n",
       "      <td>0</td>\n",
       "      <td>4</td>\n",
       "      <td>2</td>\n",
       "    </tr>\n",
       "    <tr>\n",
       "      <th>銷售true</th>\n",
       "      <td>0</td>\n",
       "      <td>0</td>\n",
       "      <td>0</td>\n",
       "      <td>1</td>\n",
       "      <td>16</td>\n",
       "    </tr>\n",
       "  </tbody>\n",
       "</table>\n",
       "</div>"
      ],
      "text/plain": [
       "              人事pred  服務管理pred  營業所得遺產贈與pred  綜合所得pred  銷售pred\n",
       "人事true             0         1             0         0       0\n",
       "服務管理true           0         3             0         2       0\n",
       "營業所得遺產贈與true       0         2             1         1       0\n",
       "綜合所得true           0         0             0         4       2\n",
       "銷售true             0         0             0         1      16"
      ]
     },
     "execution_count": 31,
     "metadata": {},
     "output_type": "execute_result"
    }
   ],
   "source": [
    "from sklearn.metrics import confusion_matrix\n",
    "\n",
    "cm = confusion_matrix(y_valid, y_hat)\n",
    "y_labels = np.sort(np.unique(y_valid))\n",
    "df_cm = pd.DataFrame(cm, index=y_labels+\"true\", columns=y_labels+\"pred\")\n",
    "df_cm"
   ]
  },
  {
   "cell_type": "markdown",
   "metadata": {
    "slideshow": {
     "slide_type": "subslide"
    }
   },
   "source": [
    "## 建立預測器類別的物件、將訓練特徵矩陣 $X^{train}$ 與目標陣列 $y^{train}$ 輸入 `predictor.fit()`\n",
    "\n",
    "以羅吉斯回歸為例。"
   ]
  },
  {
   "cell_type": "code",
   "execution_count": 32,
   "metadata": {},
   "outputs": [
    {
     "data": {
      "text/html": [
       "<style>#sk-container-id-2 {color: black;background-color: white;}#sk-container-id-2 pre{padding: 0;}#sk-container-id-2 div.sk-toggleable {background-color: white;}#sk-container-id-2 label.sk-toggleable__label {cursor: pointer;display: block;width: 100%;margin-bottom: 0;padding: 0.3em;box-sizing: border-box;text-align: center;}#sk-container-id-2 label.sk-toggleable__label-arrow:before {content: \"▸\";float: left;margin-right: 0.25em;color: #696969;}#sk-container-id-2 label.sk-toggleable__label-arrow:hover:before {color: black;}#sk-container-id-2 div.sk-estimator:hover label.sk-toggleable__label-arrow:before {color: black;}#sk-container-id-2 div.sk-toggleable__content {max-height: 0;max-width: 0;overflow: hidden;text-align: left;background-color: #f0f8ff;}#sk-container-id-2 div.sk-toggleable__content pre {margin: 0.2em;color: black;border-radius: 0.25em;background-color: #f0f8ff;}#sk-container-id-2 input.sk-toggleable__control:checked~div.sk-toggleable__content {max-height: 200px;max-width: 100%;overflow: auto;}#sk-container-id-2 input.sk-toggleable__control:checked~label.sk-toggleable__label-arrow:before {content: \"▾\";}#sk-container-id-2 div.sk-estimator input.sk-toggleable__control:checked~label.sk-toggleable__label {background-color: #d4ebff;}#sk-container-id-2 div.sk-label input.sk-toggleable__control:checked~label.sk-toggleable__label {background-color: #d4ebff;}#sk-container-id-2 input.sk-hidden--visually {border: 0;clip: rect(1px 1px 1px 1px);clip: rect(1px, 1px, 1px, 1px);height: 1px;margin: -1px;overflow: hidden;padding: 0;position: absolute;width: 1px;}#sk-container-id-2 div.sk-estimator {font-family: monospace;background-color: #f0f8ff;border: 1px dotted black;border-radius: 0.25em;box-sizing: border-box;margin-bottom: 0.5em;}#sk-container-id-2 div.sk-estimator:hover {background-color: #d4ebff;}#sk-container-id-2 div.sk-parallel-item::after {content: \"\";width: 100%;border-bottom: 1px solid gray;flex-grow: 1;}#sk-container-id-2 div.sk-label:hover label.sk-toggleable__label {background-color: #d4ebff;}#sk-container-id-2 div.sk-serial::before {content: \"\";position: absolute;border-left: 1px solid gray;box-sizing: border-box;top: 0;bottom: 0;left: 50%;z-index: 0;}#sk-container-id-2 div.sk-serial {display: flex;flex-direction: column;align-items: center;background-color: white;padding-right: 0.2em;padding-left: 0.2em;position: relative;}#sk-container-id-2 div.sk-item {position: relative;z-index: 1;}#sk-container-id-2 div.sk-parallel {display: flex;align-items: stretch;justify-content: center;background-color: white;position: relative;}#sk-container-id-2 div.sk-item::before, #sk-container-id-2 div.sk-parallel-item::before {content: \"\";position: absolute;border-left: 1px solid gray;box-sizing: border-box;top: 0;bottom: 0;left: 50%;z-index: -1;}#sk-container-id-2 div.sk-parallel-item {display: flex;flex-direction: column;z-index: 1;position: relative;background-color: white;}#sk-container-id-2 div.sk-parallel-item:first-child::after {align-self: flex-end;width: 50%;}#sk-container-id-2 div.sk-parallel-item:last-child::after {align-self: flex-start;width: 50%;}#sk-container-id-2 div.sk-parallel-item:only-child::after {width: 0;}#sk-container-id-2 div.sk-dashed-wrapped {border: 1px dashed gray;margin: 0 0.4em 0.5em 0.4em;box-sizing: border-box;padding-bottom: 0.4em;background-color: white;}#sk-container-id-2 div.sk-label label {font-family: monospace;font-weight: bold;display: inline-block;line-height: 1.2em;}#sk-container-id-2 div.sk-label-container {text-align: center;}#sk-container-id-2 div.sk-container {/* jupyter's `normalize.less` sets `[hidden] { display: none; }` but bootstrap.min.css set `[hidden] { display: none !important; }` so we also need the `!important` here to be able to override the default hidden behavior on the sphinx rendered scikit-learn.org. See: https://github.com/scikit-learn/scikit-learn/issues/21755 */display: inline-block !important;position: relative;}#sk-container-id-2 div.sk-text-repr-fallback {display: none;}</style><div id=\"sk-container-id-2\" class=\"sk-top-container\"><div class=\"sk-text-repr-fallback\"><pre>LogisticRegression()</pre><b>In a Jupyter environment, please rerun this cell to show the HTML representation or trust the notebook. <br />On GitHub, the HTML representation is unable to render, please try loading this page with nbviewer.org.</b></div><div class=\"sk-container\" hidden><div class=\"sk-item\"><div class=\"sk-estimator sk-toggleable\"><input class=\"sk-toggleable__control sk-hidden--visually\" id=\"sk-estimator-id-2\" type=\"checkbox\" checked><label for=\"sk-estimator-id-2\" class=\"sk-toggleable__label sk-toggleable__label-arrow\">LogisticRegression</label><div class=\"sk-toggleable__content\"><pre>LogisticRegression()</pre></div></div></div></div></div>"
      ],
      "text/plain": [
       "LogisticRegression()"
      ]
     },
     "execution_count": 32,
     "metadata": {},
     "output_type": "execute_result"
    }
   ],
   "source": [
    "from sklearn.linear_model import LogisticRegression\n",
    "\n",
    "lr_clf = LogisticRegression()\n",
    "lr_clf.fit(X_train, y_train)"
   ]
  },
  {
   "cell_type": "markdown",
   "metadata": {
    "slideshow": {
     "slide_type": "subslide"
    }
   },
   "source": [
    "## 將驗證特徵矩陣 $X^{valid}$ 輸入 `predictor.predict()` 獲得 $\\hat{y}^{valid}$"
   ]
  },
  {
   "cell_type": "code",
   "execution_count": 33,
   "metadata": {},
   "outputs": [],
   "source": [
    "y_hat = lr_clf.predict(X_valid)"
   ]
  },
  {
   "cell_type": "markdown",
   "metadata": {
    "slideshow": {
     "slide_type": "subslide"
    }
   },
   "source": [
    "## 比對 $\\hat{y}^{valid}$ 與 $y^{valid}$ 之間的差異"
   ]
  },
  {
   "cell_type": "code",
   "execution_count": 34,
   "metadata": {},
   "outputs": [
    {
     "data": {
      "text/html": [
       "<div>\n",
       "<style scoped>\n",
       "    .dataframe tbody tr th:only-of-type {\n",
       "        vertical-align: middle;\n",
       "    }\n",
       "\n",
       "    .dataframe tbody tr th {\n",
       "        vertical-align: top;\n",
       "    }\n",
       "\n",
       "    .dataframe thead th {\n",
       "        text-align: right;\n",
       "    }\n",
       "</style>\n",
       "<table border=\"1\" class=\"dataframe\">\n",
       "  <thead>\n",
       "    <tr style=\"text-align: right;\">\n",
       "      <th></th>\n",
       "      <th>人事pred</th>\n",
       "      <th>服務管理pred</th>\n",
       "      <th>營業所得遺產贈與pred</th>\n",
       "      <th>綜合所得pred</th>\n",
       "      <th>銷售pred</th>\n",
       "    </tr>\n",
       "  </thead>\n",
       "  <tbody>\n",
       "    <tr>\n",
       "      <th>人事true</th>\n",
       "      <td>0</td>\n",
       "      <td>1</td>\n",
       "      <td>0</td>\n",
       "      <td>0</td>\n",
       "      <td>0</td>\n",
       "    </tr>\n",
       "    <tr>\n",
       "      <th>服務管理true</th>\n",
       "      <td>0</td>\n",
       "      <td>3</td>\n",
       "      <td>0</td>\n",
       "      <td>2</td>\n",
       "      <td>0</td>\n",
       "    </tr>\n",
       "    <tr>\n",
       "      <th>營業所得遺產贈與true</th>\n",
       "      <td>0</td>\n",
       "      <td>2</td>\n",
       "      <td>1</td>\n",
       "      <td>1</td>\n",
       "      <td>0</td>\n",
       "    </tr>\n",
       "    <tr>\n",
       "      <th>綜合所得true</th>\n",
       "      <td>0</td>\n",
       "      <td>0</td>\n",
       "      <td>0</td>\n",
       "      <td>4</td>\n",
       "      <td>2</td>\n",
       "    </tr>\n",
       "    <tr>\n",
       "      <th>銷售true</th>\n",
       "      <td>0</td>\n",
       "      <td>0</td>\n",
       "      <td>0</td>\n",
       "      <td>1</td>\n",
       "      <td>16</td>\n",
       "    </tr>\n",
       "  </tbody>\n",
       "</table>\n",
       "</div>"
      ],
      "text/plain": [
       "              人事pred  服務管理pred  營業所得遺產贈與pred  綜合所得pred  銷售pred\n",
       "人事true             0         1             0         0       0\n",
       "服務管理true           0         3             0         2       0\n",
       "營業所得遺產贈與true       0         2             1         1       0\n",
       "綜合所得true           0         0             0         4       2\n",
       "銷售true             0         0             0         1      16"
      ]
     },
     "execution_count": 34,
     "metadata": {},
     "output_type": "execute_result"
    }
   ],
   "source": [
    "cm = confusion_matrix(y_valid, y_hat)\n",
    "y_labels = np.sort(np.unique(y_valid))\n",
    "df_cm = pd.DataFrame(cm, index=y_labels+\"true\", columns=y_labels+\"pred\")\n",
    "df_cm"
   ]
  },
  {
   "cell_type": "markdown",
   "metadata": {
    "slideshow": {
     "slide_type": "subslide"
    }
   },
   "source": [
    "## 建立預測器類別的物件、將訓練特徵矩陣 $X^{train}$ 與目標陣列 $y^{train}$ 輸入 `predictor.fit()`\n",
    "\n",
    "- 以樸素貝氏分類器為例。\n",
    "- 基於條件機率的分類方法，特別適合文字分類任務。\n",
    "    - 例如「主旨」有出現「投資」承辦科室為「新竹分局綜所稅課」的機率？「主旨」有出現「投資」以及「不動產」承辦科室為「新竹分局綜所稅課」的機率會增加為？\n",
    "    - 例如「來文機關」有出現「監理站」承辦科室為「新竹分局營所遺贈稅課」的機率？「來文機關」有出現「監理站」以及「主旨」有出現「道路」承辦科室為「新竹分局營所遺贈稅課」的機率會增加為？"
   ]
  },
  {
   "cell_type": "code",
   "execution_count": 35,
   "metadata": {},
   "outputs": [
    {
     "data": {
      "text/html": [
       "<style>#sk-container-id-3 {color: black;background-color: white;}#sk-container-id-3 pre{padding: 0;}#sk-container-id-3 div.sk-toggleable {background-color: white;}#sk-container-id-3 label.sk-toggleable__label {cursor: pointer;display: block;width: 100%;margin-bottom: 0;padding: 0.3em;box-sizing: border-box;text-align: center;}#sk-container-id-3 label.sk-toggleable__label-arrow:before {content: \"▸\";float: left;margin-right: 0.25em;color: #696969;}#sk-container-id-3 label.sk-toggleable__label-arrow:hover:before {color: black;}#sk-container-id-3 div.sk-estimator:hover label.sk-toggleable__label-arrow:before {color: black;}#sk-container-id-3 div.sk-toggleable__content {max-height: 0;max-width: 0;overflow: hidden;text-align: left;background-color: #f0f8ff;}#sk-container-id-3 div.sk-toggleable__content pre {margin: 0.2em;color: black;border-radius: 0.25em;background-color: #f0f8ff;}#sk-container-id-3 input.sk-toggleable__control:checked~div.sk-toggleable__content {max-height: 200px;max-width: 100%;overflow: auto;}#sk-container-id-3 input.sk-toggleable__control:checked~label.sk-toggleable__label-arrow:before {content: \"▾\";}#sk-container-id-3 div.sk-estimator input.sk-toggleable__control:checked~label.sk-toggleable__label {background-color: #d4ebff;}#sk-container-id-3 div.sk-label input.sk-toggleable__control:checked~label.sk-toggleable__label {background-color: #d4ebff;}#sk-container-id-3 input.sk-hidden--visually {border: 0;clip: rect(1px 1px 1px 1px);clip: rect(1px, 1px, 1px, 1px);height: 1px;margin: -1px;overflow: hidden;padding: 0;position: absolute;width: 1px;}#sk-container-id-3 div.sk-estimator {font-family: monospace;background-color: #f0f8ff;border: 1px dotted black;border-radius: 0.25em;box-sizing: border-box;margin-bottom: 0.5em;}#sk-container-id-3 div.sk-estimator:hover {background-color: #d4ebff;}#sk-container-id-3 div.sk-parallel-item::after {content: \"\";width: 100%;border-bottom: 1px solid gray;flex-grow: 1;}#sk-container-id-3 div.sk-label:hover label.sk-toggleable__label {background-color: #d4ebff;}#sk-container-id-3 div.sk-serial::before {content: \"\";position: absolute;border-left: 1px solid gray;box-sizing: border-box;top: 0;bottom: 0;left: 50%;z-index: 0;}#sk-container-id-3 div.sk-serial {display: flex;flex-direction: column;align-items: center;background-color: white;padding-right: 0.2em;padding-left: 0.2em;position: relative;}#sk-container-id-3 div.sk-item {position: relative;z-index: 1;}#sk-container-id-3 div.sk-parallel {display: flex;align-items: stretch;justify-content: center;background-color: white;position: relative;}#sk-container-id-3 div.sk-item::before, #sk-container-id-3 div.sk-parallel-item::before {content: \"\";position: absolute;border-left: 1px solid gray;box-sizing: border-box;top: 0;bottom: 0;left: 50%;z-index: -1;}#sk-container-id-3 div.sk-parallel-item {display: flex;flex-direction: column;z-index: 1;position: relative;background-color: white;}#sk-container-id-3 div.sk-parallel-item:first-child::after {align-self: flex-end;width: 50%;}#sk-container-id-3 div.sk-parallel-item:last-child::after {align-self: flex-start;width: 50%;}#sk-container-id-3 div.sk-parallel-item:only-child::after {width: 0;}#sk-container-id-3 div.sk-dashed-wrapped {border: 1px dashed gray;margin: 0 0.4em 0.5em 0.4em;box-sizing: border-box;padding-bottom: 0.4em;background-color: white;}#sk-container-id-3 div.sk-label label {font-family: monospace;font-weight: bold;display: inline-block;line-height: 1.2em;}#sk-container-id-3 div.sk-label-container {text-align: center;}#sk-container-id-3 div.sk-container {/* jupyter's `normalize.less` sets `[hidden] { display: none; }` but bootstrap.min.css set `[hidden] { display: none !important; }` so we also need the `!important` here to be able to override the default hidden behavior on the sphinx rendered scikit-learn.org. See: https://github.com/scikit-learn/scikit-learn/issues/21755 */display: inline-block !important;position: relative;}#sk-container-id-3 div.sk-text-repr-fallback {display: none;}</style><div id=\"sk-container-id-3\" class=\"sk-top-container\"><div class=\"sk-text-repr-fallback\"><pre>MultinomialNB()</pre><b>In a Jupyter environment, please rerun this cell to show the HTML representation or trust the notebook. <br />On GitHub, the HTML representation is unable to render, please try loading this page with nbviewer.org.</b></div><div class=\"sk-container\" hidden><div class=\"sk-item\"><div class=\"sk-estimator sk-toggleable\"><input class=\"sk-toggleable__control sk-hidden--visually\" id=\"sk-estimator-id-3\" type=\"checkbox\" checked><label for=\"sk-estimator-id-3\" class=\"sk-toggleable__label sk-toggleable__label-arrow\">MultinomialNB</label><div class=\"sk-toggleable__content\"><pre>MultinomialNB()</pre></div></div></div></div></div>"
      ],
      "text/plain": [
       "MultinomialNB()"
      ]
     },
     "execution_count": 35,
     "metadata": {},
     "output_type": "execute_result"
    }
   ],
   "source": [
    "from sklearn.naive_bayes import MultinomialNB\n",
    "\n",
    "nb_clf = MultinomialNB()\n",
    "nb_clf.fit(X_train, y_train)"
   ]
  },
  {
   "cell_type": "markdown",
   "metadata": {
    "slideshow": {
     "slide_type": "subslide"
    }
   },
   "source": [
    "## 將驗證特徵矩陣 $X^{valid}$ 輸入 `predictor.predict()` 獲得 $\\hat{y}^{valid}$"
   ]
  },
  {
   "cell_type": "code",
   "execution_count": 36,
   "metadata": {},
   "outputs": [],
   "source": [
    "y_hat = nb_clf.predict(X_valid)"
   ]
  },
  {
   "cell_type": "markdown",
   "metadata": {
    "slideshow": {
     "slide_type": "subslide"
    }
   },
   "source": [
    "## 比對 $\\hat{y}^{valid}$ 與 $y^{valid}$ 之間的差異"
   ]
  },
  {
   "cell_type": "code",
   "execution_count": 37,
   "metadata": {},
   "outputs": [
    {
     "data": {
      "text/html": [
       "<div>\n",
       "<style scoped>\n",
       "    .dataframe tbody tr th:only-of-type {\n",
       "        vertical-align: middle;\n",
       "    }\n",
       "\n",
       "    .dataframe tbody tr th {\n",
       "        vertical-align: top;\n",
       "    }\n",
       "\n",
       "    .dataframe thead th {\n",
       "        text-align: right;\n",
       "    }\n",
       "</style>\n",
       "<table border=\"1\" class=\"dataframe\">\n",
       "  <thead>\n",
       "    <tr style=\"text-align: right;\">\n",
       "      <th></th>\n",
       "      <th>人事pred</th>\n",
       "      <th>服務管理pred</th>\n",
       "      <th>營業所得遺產贈與pred</th>\n",
       "      <th>綜合所得pred</th>\n",
       "      <th>銷售pred</th>\n",
       "    </tr>\n",
       "  </thead>\n",
       "  <tbody>\n",
       "    <tr>\n",
       "      <th>人事true</th>\n",
       "      <td>0</td>\n",
       "      <td>1</td>\n",
       "      <td>0</td>\n",
       "      <td>0</td>\n",
       "      <td>0</td>\n",
       "    </tr>\n",
       "    <tr>\n",
       "      <th>服務管理true</th>\n",
       "      <td>0</td>\n",
       "      <td>3</td>\n",
       "      <td>0</td>\n",
       "      <td>2</td>\n",
       "      <td>0</td>\n",
       "    </tr>\n",
       "    <tr>\n",
       "      <th>營業所得遺產贈與true</th>\n",
       "      <td>0</td>\n",
       "      <td>2</td>\n",
       "      <td>1</td>\n",
       "      <td>1</td>\n",
       "      <td>0</td>\n",
       "    </tr>\n",
       "    <tr>\n",
       "      <th>綜合所得true</th>\n",
       "      <td>0</td>\n",
       "      <td>0</td>\n",
       "      <td>0</td>\n",
       "      <td>6</td>\n",
       "      <td>0</td>\n",
       "    </tr>\n",
       "    <tr>\n",
       "      <th>銷售true</th>\n",
       "      <td>0</td>\n",
       "      <td>0</td>\n",
       "      <td>0</td>\n",
       "      <td>1</td>\n",
       "      <td>16</td>\n",
       "    </tr>\n",
       "  </tbody>\n",
       "</table>\n",
       "</div>"
      ],
      "text/plain": [
       "              人事pred  服務管理pred  營業所得遺產贈與pred  綜合所得pred  銷售pred\n",
       "人事true             0         1             0         0       0\n",
       "服務管理true           0         3             0         2       0\n",
       "營業所得遺產贈與true       0         2             1         1       0\n",
       "綜合所得true           0         0             0         6       0\n",
       "銷售true             0         0             0         1      16"
      ]
     },
     "execution_count": 37,
     "metadata": {},
     "output_type": "execute_result"
    }
   ],
   "source": [
    "cm = confusion_matrix(y_valid, y_hat)\n",
    "y_labels = np.sort(np.unique(y_valid))\n",
    "df_cm = pd.DataFrame(cm, index=y_labels+\"true\", columns=y_labels+\"pred\")\n",
    "df_cm"
   ]
  },
  {
   "cell_type": "markdown",
   "metadata": {
    "slideshow": {
     "slide_type": "subslide"
    }
   },
   "source": [
    "## 使用 `pickle` 儲存模型"
   ]
  },
  {
   "cell_type": "code",
   "execution_count": 38,
   "metadata": {},
   "outputs": [
    {
     "data": {
      "text/plain": [
       "array(['綜合所得', '銷售', '銷售', '服務管理', '銷售', '綜合所得', '服務管理', '銷售', '銷售', '銷售',\n",
       "       '銷售', '銷售', '銷售', '銷售', '營業所得遺產贈與', '綜合所得', '綜合所得', '服務管理', '銷售',\n",
       "       '服務管理', '綜合所得', '綜合所得', '銷售', '綜合所得', '服務管理', '銷售', '綜合所得', '綜合所得',\n",
       "       '綜合所得', '銷售', '服務管理', '銷售', '銷售'], dtype='<U8')"
      ]
     },
     "execution_count": 38,
     "metadata": {},
     "output_type": "execute_result"
    }
   ],
   "source": [
    "import pickle\n",
    "\n",
    "s = pickle.dumps(nb_clf)\n",
    "another_nb_clf = pickle.loads(s)\n",
    "another_nb_clf.predict(X_valid)"
   ]
  },
  {
   "cell_type": "markdown",
   "metadata": {
    "slideshow": {
     "slide_type": "subslide"
    }
   },
   "source": [
    "## 使用 `joblib` 儲存模型"
   ]
  },
  {
   "cell_type": "code",
   "execution_count": 39,
   "metadata": {},
   "outputs": [
    {
     "data": {
      "text/plain": [
       "array(['綜合所得', '銷售', '銷售', '服務管理', '銷售', '綜合所得', '服務管理', '銷售', '銷售', '銷售',\n",
       "       '銷售', '銷售', '銷售', '銷售', '營業所得遺產贈與', '綜合所得', '綜合所得', '服務管理', '銷售',\n",
       "       '服務管理', '綜合所得', '綜合所得', '銷售', '綜合所得', '服務管理', '銷售', '綜合所得', '綜合所得',\n",
       "       '綜合所得', '銷售', '服務管理', '銷售', '銷售'], dtype='<U8')"
      ]
     },
     "execution_count": 39,
     "metadata": {},
     "output_type": "execute_result"
    }
   ],
   "source": [
    "from joblib import dump, load\n",
    "\n",
    "dump(nb_clf, \"nb_clf.joblib\")\n",
    "another_nb_clf = load(\"nb_clf.joblib\")\n",
    "another_nb_clf.predict(X_valid)"
   ]
  },
  {
   "cell_type": "markdown",
   "metadata": {
    "slideshow": {
     "slide_type": "subslide"
    }
   },
   "source": [
    "## 使用 `transformers` 建立預訓練的文字分類模型\n",
    "\n",
    "```bash\n",
    "!pip install transformers\n",
    "```"
   ]
  },
  {
   "cell_type": "code",
   "execution_count": null,
   "metadata": {},
   "outputs": [],
   "source": [
    "from transformers import pipeline\n",
    "\n",
    "clf = pipeline(\"zero-shot-classification\", model=\"facebook/bart-large-mnli\")"
   ]
  },
  {
   "cell_type": "code",
   "execution_count": null,
   "metadata": {
    "slideshow": {
     "slide_type": "subslide"
    }
   },
   "outputs": [],
   "source": [
    "X = electronic_official_doc[[\"來文機關\", \"主旨\"]].values\n",
    "y = electronic_official_doc[\"承辦科室\"].map(mapping_dict).values\n",
    "X_train, X_valid, y_train, y_valid = train_test_split(X, y, test_size=0.2, random_state=42) \n",
    "for org, title, y_true_i in zip(X_valid[:, 0].ravel()[:5], X_valid[:, 1].ravel()[:5], y_valid[:5]):\n",
    "    org_title = org + title\n",
    "    clf_res = clf(org_title, candidate_labels=np.unique(y))\n",
    "    scores = clf_res[\"scores\"]\n",
    "    index_max = scores.index(max(scores))\n",
    "    y_hat_i = clf_res[\"labels\"][index_max]\n",
    "    print(clf_res[\"sequence\"])\n",
    "    print(f\"y_hat: {y_hat_i}\")\n",
    "    print(f\"y_true: {y_true_i}\")"
   ]
  },
  {
   "cell_type": "code",
   "execution_count": null,
   "metadata": {
    "slideshow": {
     "slide_type": "subslide"
    }
   },
   "outputs": [],
   "source": [
    "y_hat = []\n",
    "for org, title, y_true_i in zip(X_valid[:, 0].ravel(), X_valid[:, 1].ravel(), y_valid):\n",
    "    org_title = org + title\n",
    "    clf_res = clf(org_title, candidate_labels=np.unique(y))\n",
    "    scores = clf_res[\"scores\"]\n",
    "    index_max = scores.index(max(scores))\n",
    "    y_hat_i = clf_res[\"labels\"][index_max]\n",
    "    y_hat.append(y_hat_i)\n",
    "y_hat = np.array(y_hat)\n",
    "cm = confusion_matrix(y_valid, y_hat)\n",
    "y_labels = np.sort(np.unique(y_valid))\n",
    "df_cm = pd.DataFrame(cm, index=y_labels+\"true\", columns=y_labels+\"pred\")\n",
    "df_cm"
   ]
  }
 ],
 "metadata": {
  "celltoolbar": "Slideshow",
  "colab": {
   "provenance": []
  },
  "kernelspec": {
   "display_name": "Python 3 (ipykernel)",
   "language": "python",
   "name": "python3"
  },
  "language_info": {
   "codemirror_mode": {
    "name": "ipython",
    "version": 3
   },
   "file_extension": ".py",
   "mimetype": "text/x-python",
   "name": "python",
   "nbconvert_exporter": "python",
   "pygments_lexer": "ipython3",
   "version": "3.9.16"
  }
 },
 "nbformat": 4,
 "nbformat_minor": 1
}
